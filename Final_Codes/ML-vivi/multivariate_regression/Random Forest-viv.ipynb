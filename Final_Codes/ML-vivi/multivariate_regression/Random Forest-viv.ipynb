{
 "cells": [
  {
   "cell_type": "code",
   "execution_count": 1,
   "metadata": {},
   "outputs": [],
   "source": [
    "%matplotlib inline\n",
    "import matplotlib.pyplot as plt\n",
    "import numpy as np\n",
    "import pandas as pd\n",
    "import pickle\n"
   ]
  },
  {
   "cell_type": "code",
   "execution_count": 2,
   "metadata": {},
   "outputs": [],
   "source": [
    "# Loading the data (in this case it is CSV)\n",
    "\n",
    "df1 =pd.read_csv( \"../../CSVTables/Cross_Tb1.csv\")\n",
    "df2 =pd.read_csv(\"../../CSVTables/Cross_Tb2.csv\")\n",
    "df3 = pd.read_csv(\"../../CSVTables/Cross_Tb3.csv\")\n",
    "df4 = pd.read_csv(\"../../CSVTables/Cross_Tb4.csv\")\n",
    "df5 = pd.read_csv(\"../../CSVTables/Cross_Tb5.csv\")\n",
    "# df6 = pd.read_csv(\"../../CSVTables/Cross_Tb6.csv\")\n",
    "df7 = pd.read_csv(\"../../CSVTables/Cross_Tb7.csv\")\n",
    "# df8 = pd.read_csv(\"../../CSVTables/Cross_Tb8.csv\")\n",
    "# df9 = pd.read_csv(\"../../CSVTables/Cross_Tb9.csv\")\n",
    "df10 = pd.read_csv(\"../../CSVTables/Cross_Tb10.csv\")\n",
    "df11 = pd.read_csv(\"../../CSVTables/Cross_Tb11.csv\")\n",
    "df12 = pd.read_csv(\"../../CSVTables/Cross_Tb12.csv\")\n",
    "df13 = pd.read_csv(\"../../CSVTables/Cross_Tb13.csv\")\n",
    "# df14 = pd.read_csv(\"../../CSVTables/Cross_Tb14.csv\")\n",
    "df15 = pd.read_csv(\"../../CSVTables/Cross_Tb15.csv\")\n",
    "# df16 = pd.read_csv(\"../../CSVTables/Cross_Tb16.csv\")\n",
    "df17 = pd.read_csv(\"../../CSVTables/Cross_Tb17.csv\")\n",
    "# df18 = pd.read_csv(\"../../CSVTables/Cross_Tb18.csv\")\n",
    "# df19 = pd.read_csv(\"../../CSVTables/Cross_Tb19.csv\")\n",
    "df20 = pd.read_csv(\"../../CSVTables/Cross_Tb20.csv\")\n",
    "df21 = pd.read_csv(\"../../CSVTables/Cross_Tb21.csv\")\n",
    "df22 = pd.read_csv(\"../../CSVTables/Cross_Tb22.csv\")\n",
    "df23 = pd.read_csv(\"../../CSVTables/Cross_Tb23.csv\")\n",
    "# df24 = pd.read_csv(\"../../CSVTables/Cross_Tb24.csv\")\n",
    "df25 = pd.read_csv(\"../../CSVTables/Cross_Tb25.csv\")\n",
    "# df26 = pd.read_csv(\"../../CSVTables/Cross_Tb26.csv\")\n",
    "df27 = pd.read_csv(\"../../CSVTables/Cross_Tb27.csv\")\n",
    "df28 = pd.read_csv(\"../../CSVTables/Cross_Tb28.csv\")\n",
    "df29 = pd.read_csv(\"../../CSVTables/Cross_Tb29.csv\")\n",
    "df30 = pd.read_csv(\"../../CSVTables/Cross_Tb30.csv\")\n",
    "df31 = pd.read_csv(\"../../CSVTables/Cross_Tb31.csv\")"
   ]
  },
  {
   "cell_type": "markdown",
   "metadata": {},
   "source": [
    "# Trial Using CSV"
   ]
  },
  {
   "cell_type": "code",
   "execution_count": 3,
   "metadata": {},
   "outputs": [],
   "source": [
    "#Create list of dataframe so it is easier to iterate\n",
    "\n",
    "list_of_df = [df1, df2, df3, df4, df5, df7, df10, df11, df12, df13, df15, df17, df20, df21, df22, df23, df25, df27, df28, df29, df30, df31]"
   ]
  },
  {
   "cell_type": "markdown",
   "metadata": {},
   "source": [
    "#training code\n",
    "list_of_df[2] = list_of_df[2].drop( list_of_df[2].columns[[0,1]], axis=1 )\n",
    "\n",
    "list_of_df[2]"
   ]
  },
  {
   "cell_type": "code",
   "execution_count": 4,
   "metadata": {},
   "outputs": [],
   "source": [
    "#Drop the data I don't want.\n",
    "#Erase this step when finally using dataframe \n",
    "\n",
    "\n",
    "for dframe in range(0, len(list_of_df)-1 ):\n",
    "    list_of_df[dframe] = list_of_df[dframe].drop( list_of_df[dframe].columns[[0,1]], axis=1 )\n",
    "\n",
    "\n"
   ]
  },
  {
   "cell_type": "code",
   "execution_count": 5,
   "metadata": {},
   "outputs": [],
   "source": [
    "df_new = list_of_df[ (len(list_of_df)-1 )].join( list_of_df[ (len(list_of_df)-2 )] )\n",
    "\n",
    "for dframe in range(0, len(list_of_df)-2 ):\n",
    "    df_new = df_new.join( list_of_df[dframe] )"
   ]
  },
  {
   "cell_type": "markdown",
   "metadata": {},
   "source": [
    "#sample joining table\n",
    "\n",
    "df_new = df31.join(df29)\n",
    "df29 = df29.drop(df29.columns[[0,1]], axis=1)\n",
    "df30 = df30.drop(df30.columns[[0,1]], axis=1)\n",
    "\n",
    "df_new = df31.join(df29)\n",
    "df_new = df_new.join(df30)"
   ]
  },
  {
   "cell_type": "code",
   "execution_count": 6,
   "metadata": {},
   "outputs": [
    {
     "name": "stdout",
     "output_type": "stream",
     "text": [
      "         NCTId OverallStatus  Phase_1  Phase_2  Phase_3  Phase_4  Phase_n/a  \\\n",
      "0  NCT00000102     Completed        1        1        0        0          0   \n",
      "1  NCT00000104     Completed        0        0        0        0          1   \n",
      "2  NCT00000105    Terminated        0        0        0        0          1   \n",
      "3  NCT00000106         Other        0        0        0        0          1   \n",
      "4  NCT00000107     Completed        0        0        0        0          1   \n",
      "\n",
      "   51-100  101-200  201-500  ...  tb25_No  tb25_Yes  \\\n",
      "0       0        1        0  ...        0         0   \n",
      "1       0        0        0  ...        0         0   \n",
      "2       0        0        0  ...        0         0   \n",
      "3       0        0        0  ...        0         0   \n",
      "4       0        0        0  ...        0         0   \n",
      "\n",
      "   tb27_NonProbabilitySample  tb27_ProbabilitySample  tb28_Adult  tb28_Child  \\\n",
      "0                          0                       0           1           1   \n",
      "1                          0                       0           1           1   \n",
      "2                          0                       1           1           0   \n",
      "3                          0                       0           1           0   \n",
      "4                          0                       0           1           1   \n",
      "\n",
      "   tb28_OlderAdult  tb29_ExpandedAccess  tb29_Interventional  \\\n",
      "0                0                    0                    1   \n",
      "1                1                    0                    0   \n",
      "2                1                    0                    0   \n",
      "3                1                    0                    1   \n",
      "4                0                    0                    0   \n",
      "\n",
      "   tb29_Observational  \n",
      "0                   0  \n",
      "1                   1  \n",
      "2                   1  \n",
      "3                   0  \n",
      "4                   1  \n",
      "\n",
      "[5 rows x 190 columns]\n",
      "111592\n"
     ]
    }
   ],
   "source": [
    "df_new = df_new.dropna(how = 'any')\n",
    "\n",
    "print( df_new.head() )\n",
    "print(len(df_new.index) )"
   ]
  },
  {
   "cell_type": "code",
   "execution_count": null,
   "metadata": {},
   "outputs": [],
   "source": []
  },
  {
   "cell_type": "code",
   "execution_count": 7,
   "metadata": {},
   "outputs": [],
   "source": [
    "## 2. Regression Machine learning using sample data"
   ]
  },
  {
   "cell_type": "code",
   "execution_count": 8,
   "metadata": {},
   "outputs": [
    {
     "data": {
      "text/plain": [
       "Index(['51-100', '101-200', '201-500', '501-1000', '1001-10000', '10000plus',\n",
       "       'tb1_Biological', 'tb1_CombinationProduct', 'tb1_Device',\n",
       "       'tb1_DiagnosticTest',\n",
       "       ...\n",
       "       'tb25_No', 'tb25_Yes', 'tb27_NonProbabilitySample',\n",
       "       'tb27_ProbabilitySample', 'tb28_Adult', 'tb28_Child', 'tb28_OlderAdult',\n",
       "       'tb29_ExpandedAccess', 'tb29_Interventional', 'tb29_Observational'],\n",
       "      dtype='object', length=183)"
      ]
     },
     "execution_count": 8,
     "metadata": {},
     "output_type": "execute_result"
    }
   ],
   "source": [
    "### 2.a Prepping: extract the name of the column\n",
    "\n",
    "key_name =  df_new.keys()\n",
    "X_name = key_name[7:]\n",
    "\n",
    "X_name"
   ]
  },
  {
   "cell_type": "code",
   "execution_count": 9,
   "metadata": {},
   "outputs": [
    {
     "name": "stdout",
     "output_type": "stream",
     "text": [
      "22506\n"
     ]
    }
   ],
   "source": [
    "### 2.b Select the data we want.\n",
    "### In this case, we only pick Phase 2, and the Overall Status has to be either\n",
    "\n",
    "df_filtered = df_new[ df_new[\"Phase_2\"] == 1 ]\n",
    "df_filtered = df_filtered[ (df_filtered[\"OverallStatus\"] == \"Completed\") | (df_filtered [\"OverallStatus\"] ==\"Terminated\")  ]\n",
    "\n",
    "# print(df_filtered.describe() )\n",
    "\n",
    "#drop null values\n",
    "# df_filtered = df_filtered.dropna(how = 'any')\n",
    "\n",
    "print(len(df_filtered.index ))"
   ]
  },
  {
   "cell_type": "code",
   "execution_count": 10,
   "metadata": {},
   "outputs": [
    {
     "data": {
      "text/html": [
       "<div>\n",
       "<style scoped>\n",
       "    .dataframe tbody tr th:only-of-type {\n",
       "        vertical-align: middle;\n",
       "    }\n",
       "\n",
       "    .dataframe tbody tr th {\n",
       "        vertical-align: top;\n",
       "    }\n",
       "\n",
       "    .dataframe thead th {\n",
       "        text-align: right;\n",
       "    }\n",
       "</style>\n",
       "<table border=\"1\" class=\"dataframe\">\n",
       "  <thead>\n",
       "    <tr style=\"text-align: right;\">\n",
       "      <th></th>\n",
       "      <th>NCTId</th>\n",
       "      <th>Phase_1</th>\n",
       "      <th>Phase_2</th>\n",
       "      <th>Phase_3</th>\n",
       "      <th>Phase_4</th>\n",
       "      <th>Phase_n/a</th>\n",
       "      <th>51-100</th>\n",
       "      <th>101-200</th>\n",
       "      <th>201-500</th>\n",
       "      <th>501-1000</th>\n",
       "      <th>...</th>\n",
       "      <th>tb25_No</th>\n",
       "      <th>tb25_Yes</th>\n",
       "      <th>tb27_NonProbabilitySample</th>\n",
       "      <th>tb27_ProbabilitySample</th>\n",
       "      <th>tb28_Adult</th>\n",
       "      <th>tb28_Child</th>\n",
       "      <th>tb28_OlderAdult</th>\n",
       "      <th>tb29_ExpandedAccess</th>\n",
       "      <th>tb29_Interventional</th>\n",
       "      <th>tb29_Observational</th>\n",
       "    </tr>\n",
       "    <tr>\n",
       "      <th>OverallStatus</th>\n",
       "      <th></th>\n",
       "      <th></th>\n",
       "      <th></th>\n",
       "      <th></th>\n",
       "      <th></th>\n",
       "      <th></th>\n",
       "      <th></th>\n",
       "      <th></th>\n",
       "      <th></th>\n",
       "      <th></th>\n",
       "      <th></th>\n",
       "      <th></th>\n",
       "      <th></th>\n",
       "      <th></th>\n",
       "      <th></th>\n",
       "      <th></th>\n",
       "      <th></th>\n",
       "      <th></th>\n",
       "      <th></th>\n",
       "      <th></th>\n",
       "      <th></th>\n",
       "    </tr>\n",
       "  </thead>\n",
       "  <tbody>\n",
       "    <tr>\n",
       "      <th>Completed</th>\n",
       "      <td>17503</td>\n",
       "      <td>17503</td>\n",
       "      <td>17503</td>\n",
       "      <td>17503</td>\n",
       "      <td>17503</td>\n",
       "      <td>17503</td>\n",
       "      <td>17503</td>\n",
       "      <td>17503</td>\n",
       "      <td>17503</td>\n",
       "      <td>17503</td>\n",
       "      <td>...</td>\n",
       "      <td>17503</td>\n",
       "      <td>17503</td>\n",
       "      <td>17503</td>\n",
       "      <td>17503</td>\n",
       "      <td>17503</td>\n",
       "      <td>17503</td>\n",
       "      <td>17503</td>\n",
       "      <td>17503</td>\n",
       "      <td>17503</td>\n",
       "      <td>17503</td>\n",
       "    </tr>\n",
       "    <tr>\n",
       "      <th>Terminated</th>\n",
       "      <td>5003</td>\n",
       "      <td>5003</td>\n",
       "      <td>5003</td>\n",
       "      <td>5003</td>\n",
       "      <td>5003</td>\n",
       "      <td>5003</td>\n",
       "      <td>5003</td>\n",
       "      <td>5003</td>\n",
       "      <td>5003</td>\n",
       "      <td>5003</td>\n",
       "      <td>...</td>\n",
       "      <td>5003</td>\n",
       "      <td>5003</td>\n",
       "      <td>5003</td>\n",
       "      <td>5003</td>\n",
       "      <td>5003</td>\n",
       "      <td>5003</td>\n",
       "      <td>5003</td>\n",
       "      <td>5003</td>\n",
       "      <td>5003</td>\n",
       "      <td>5003</td>\n",
       "    </tr>\n",
       "  </tbody>\n",
       "</table>\n",
       "<p>2 rows × 189 columns</p>\n",
       "</div>"
      ],
      "text/plain": [
       "               NCTId  Phase_1  Phase_2  Phase_3  Phase_4  Phase_n/a  51-100  \\\n",
       "OverallStatus                                                                 \n",
       "Completed      17503    17503    17503    17503    17503      17503   17503   \n",
       "Terminated      5003     5003     5003     5003     5003       5003    5003   \n",
       "\n",
       "               101-200  201-500  501-1000  ...  tb25_No  tb25_Yes  \\\n",
       "OverallStatus                              ...                      \n",
       "Completed        17503    17503     17503  ...    17503     17503   \n",
       "Terminated        5003     5003      5003  ...     5003      5003   \n",
       "\n",
       "               tb27_NonProbabilitySample  tb27_ProbabilitySample  tb28_Adult  \\\n",
       "OverallStatus                                                                  \n",
       "Completed                          17503                   17503       17503   \n",
       "Terminated                          5003                    5003        5003   \n",
       "\n",
       "               tb28_Child  tb28_OlderAdult  tb29_ExpandedAccess  \\\n",
       "OverallStatus                                                     \n",
       "Completed           17503            17503                17503   \n",
       "Terminated           5003             5003                 5003   \n",
       "\n",
       "               tb29_Interventional  tb29_Observational  \n",
       "OverallStatus                                           \n",
       "Completed                    17503               17503  \n",
       "Terminated                    5003                5003  \n",
       "\n",
       "[2 rows x 189 columns]"
      ]
     },
     "execution_count": 10,
     "metadata": {},
     "output_type": "execute_result"
    }
   ],
   "source": [
    "df_filtered.groupby(\"OverallStatus\").count()"
   ]
  },
  {
   "cell_type": "code",
   "execution_count": null,
   "metadata": {},
   "outputs": [],
   "source": []
  },
  {
   "cell_type": "code",
   "execution_count": null,
   "metadata": {},
   "outputs": [],
   "source": []
  },
  {
   "cell_type": "code",
   "execution_count": 11,
   "metadata": {},
   "outputs": [
    {
     "name": "stdout",
     "output_type": "stream",
     "text": [
      "(22506, 183) (22506,)\n"
     ]
    }
   ],
   "source": [
    "### 2.c Assign data to X and Y\n",
    "\n",
    "X = df_filtered[X_name]\n",
    "y = df_filtered[\"OverallStatus\"]\n",
    "print(X.shape , y.shape)"
   ]
  },
  {
   "cell_type": "markdown",
   "metadata": {},
   "source": [
    "### Random Forest Model"
   ]
  },
  {
   "cell_type": "code",
   "execution_count": 12,
   "metadata": {},
   "outputs": [],
   "source": [
    "# Use train_test_split to create training and testing data\n",
    "from sklearn.model_selection import train_test_split\n",
    "X_train, X_test, y_train, y_test = train_test_split(X, y)"
   ]
  },
  {
   "cell_type": "code",
   "execution_count": 13,
   "metadata": {},
   "outputs": [],
   "source": [
    "# Create Random Forest Model\n",
    "from sklearn.ensemble import RandomForestClassifier\n",
    "model = RandomForestClassifier()"
   ]
  },
  {
   "cell_type": "code",
   "execution_count": 14,
   "metadata": {},
   "outputs": [],
   "source": [
    "# Create the GridSearch estimator along with a parameter object containing the values to adjust\n",
    "from sklearn.model_selection import GridSearchCV\n",
    "\n",
    "param_grid = {'n_estimators': [5, 10, 50],       #(n_estimator 10, 150, 100) \n",
    "              'min_samples_leaf': [1, 3, 5]}\n",
    "grid = GridSearchCV(model, param_grid, verbose=3)"
   ]
  },
  {
   "cell_type": "code",
   "execution_count": 15,
   "metadata": {},
   "outputs": [
    {
     "name": "stdout",
     "output_type": "stream",
     "text": [
      "Fitting 5 folds for each of 9 candidates, totalling 45 fits\n",
      "[CV] min_samples_leaf=1, n_estimators=5 ..............................\n"
     ]
    },
    {
     "name": "stderr",
     "output_type": "stream",
     "text": [
      "[Parallel(n_jobs=1)]: Using backend SequentialBackend with 1 concurrent workers.\n"
     ]
    },
    {
     "name": "stdout",
     "output_type": "stream",
     "text": [
      "[CV] .. min_samples_leaf=1, n_estimators=5, score=0.743, total=   0.2s\n",
      "[CV] min_samples_leaf=1, n_estimators=5 ..............................\n",
      "[CV] .. min_samples_leaf=1, n_estimators=5, score=0.738, total=   0.2s\n"
     ]
    },
    {
     "name": "stderr",
     "output_type": "stream",
     "text": [
      "[Parallel(n_jobs=1)]: Done   1 out of   1 | elapsed:    0.1s remaining:    0.0s\n",
      "[Parallel(n_jobs=1)]: Done   2 out of   2 | elapsed:    0.3s remaining:    0.0s\n"
     ]
    },
    {
     "name": "stdout",
     "output_type": "stream",
     "text": [
      "[CV] min_samples_leaf=1, n_estimators=5 ..............................\n",
      "[CV] .. min_samples_leaf=1, n_estimators=5, score=0.747, total=   0.2s\n",
      "[CV] min_samples_leaf=1, n_estimators=5 ..............................\n",
      "[CV] .. min_samples_leaf=1, n_estimators=5, score=0.736, total=   0.2s\n",
      "[CV] min_samples_leaf=1, n_estimators=5 ..............................\n",
      "[CV] .. min_samples_leaf=1, n_estimators=5, score=0.742, total=   0.2s\n",
      "[CV] min_samples_leaf=1, n_estimators=10 .............................\n",
      "[CV] . min_samples_leaf=1, n_estimators=10, score=0.762, total=   0.4s\n",
      "[CV] min_samples_leaf=1, n_estimators=10 .............................\n",
      "[CV] . min_samples_leaf=1, n_estimators=10, score=0.774, total=   0.4s\n",
      "[CV] min_samples_leaf=1, n_estimators=10 .............................\n",
      "[CV] . min_samples_leaf=1, n_estimators=10, score=0.776, total=   0.4s\n",
      "[CV] min_samples_leaf=1, n_estimators=10 .............................\n",
      "[CV] . min_samples_leaf=1, n_estimators=10, score=0.769, total=   0.4s\n",
      "[CV] min_samples_leaf=1, n_estimators=10 .............................\n",
      "[CV] . min_samples_leaf=1, n_estimators=10, score=0.767, total=   0.4s\n",
      "[CV] min_samples_leaf=1, n_estimators=50 .............................\n",
      "[CV] . min_samples_leaf=1, n_estimators=50, score=0.774, total=   1.5s\n",
      "[CV] min_samples_leaf=1, n_estimators=50 .............................\n",
      "[CV] . min_samples_leaf=1, n_estimators=50, score=0.772, total=   1.5s\n",
      "[CV] min_samples_leaf=1, n_estimators=50 .............................\n",
      "[CV] . min_samples_leaf=1, n_estimators=50, score=0.781, total=   1.5s\n",
      "[CV] min_samples_leaf=1, n_estimators=50 .............................\n",
      "[CV] . min_samples_leaf=1, n_estimators=50, score=0.778, total=   1.5s\n",
      "[CV] min_samples_leaf=1, n_estimators=50 .............................\n",
      "[CV] . min_samples_leaf=1, n_estimators=50, score=0.779, total=   1.7s\n",
      "[CV] min_samples_leaf=3, n_estimators=5 ..............................\n",
      "[CV] .. min_samples_leaf=3, n_estimators=5, score=0.770, total=   0.2s\n",
      "[CV] min_samples_leaf=3, n_estimators=5 ..............................\n",
      "[CV] .. min_samples_leaf=3, n_estimators=5, score=0.771, total=   0.2s\n",
      "[CV] min_samples_leaf=3, n_estimators=5 ..............................\n",
      "[CV] .. min_samples_leaf=3, n_estimators=5, score=0.778, total=   0.2s\n",
      "[CV] min_samples_leaf=3, n_estimators=5 ..............................\n",
      "[CV] .. min_samples_leaf=3, n_estimators=5, score=0.772, total=   0.2s\n",
      "[CV] min_samples_leaf=3, n_estimators=5 ..............................\n",
      "[CV] .. min_samples_leaf=3, n_estimators=5, score=0.772, total=   0.2s\n",
      "[CV] min_samples_leaf=3, n_estimators=10 .............................\n",
      "[CV] . min_samples_leaf=3, n_estimators=10, score=0.776, total=   0.3s\n",
      "[CV] min_samples_leaf=3, n_estimators=10 .............................\n",
      "[CV] . min_samples_leaf=3, n_estimators=10, score=0.781, total=   0.3s\n",
      "[CV] min_samples_leaf=3, n_estimators=10 .............................\n",
      "[CV] . min_samples_leaf=3, n_estimators=10, score=0.785, total=   0.3s\n",
      "[CV] min_samples_leaf=3, n_estimators=10 .............................\n",
      "[CV] . min_samples_leaf=3, n_estimators=10, score=0.778, total=   0.3s\n",
      "[CV] min_samples_leaf=3, n_estimators=10 .............................\n",
      "[CV] . min_samples_leaf=3, n_estimators=10, score=0.780, total=   0.3s\n",
      "[CV] min_samples_leaf=3, n_estimators=50 .............................\n",
      "[CV] . min_samples_leaf=3, n_estimators=50, score=0.776, total=   1.3s\n",
      "[CV] min_samples_leaf=3, n_estimators=50 .............................\n",
      "[CV] . min_samples_leaf=3, n_estimators=50, score=0.780, total=   1.3s\n",
      "[CV] min_samples_leaf=3, n_estimators=50 .............................\n",
      "[CV] . min_samples_leaf=3, n_estimators=50, score=0.780, total=   1.2s\n",
      "[CV] min_samples_leaf=3, n_estimators=50 .............................\n",
      "[CV] . min_samples_leaf=3, n_estimators=50, score=0.781, total=   1.2s\n",
      "[CV] min_samples_leaf=3, n_estimators=50 .............................\n",
      "[CV] . min_samples_leaf=3, n_estimators=50, score=0.781, total=   1.2s\n",
      "[CV] min_samples_leaf=5, n_estimators=5 ..............................\n",
      "[CV] .. min_samples_leaf=5, n_estimators=5, score=0.778, total=   0.1s\n",
      "[CV] min_samples_leaf=5, n_estimators=5 ..............................\n",
      "[CV] .. min_samples_leaf=5, n_estimators=5, score=0.775, total=   0.1s\n",
      "[CV] min_samples_leaf=5, n_estimators=5 ..............................\n",
      "[CV] .. min_samples_leaf=5, n_estimators=5, score=0.778, total=   0.1s\n",
      "[CV] min_samples_leaf=5, n_estimators=5 ..............................\n",
      "[CV] .. min_samples_leaf=5, n_estimators=5, score=0.776, total=   0.1s\n",
      "[CV] min_samples_leaf=5, n_estimators=5 ..............................\n",
      "[CV] .. min_samples_leaf=5, n_estimators=5, score=0.777, total=   0.1s\n",
      "[CV] min_samples_leaf=5, n_estimators=10 .............................\n",
      "[CV] . min_samples_leaf=5, n_estimators=10, score=0.777, total=   0.2s\n",
      "[CV] min_samples_leaf=5, n_estimators=10 .............................\n",
      "[CV] . min_samples_leaf=5, n_estimators=10, score=0.779, total=   0.2s\n",
      "[CV] min_samples_leaf=5, n_estimators=10 .............................\n",
      "[CV] . min_samples_leaf=5, n_estimators=10, score=0.778, total=   0.3s\n",
      "[CV] min_samples_leaf=5, n_estimators=10 .............................\n",
      "[CV] . min_samples_leaf=5, n_estimators=10, score=0.779, total=   0.3s\n",
      "[CV] min_samples_leaf=5, n_estimators=10 .............................\n",
      "[CV] . min_samples_leaf=5, n_estimators=10, score=0.780, total=   0.3s\n",
      "[CV] min_samples_leaf=5, n_estimators=50 .............................\n",
      "[CV] . min_samples_leaf=5, n_estimators=50, score=0.777, total=   1.1s\n",
      "[CV] min_samples_leaf=5, n_estimators=50 .............................\n",
      "[CV] . min_samples_leaf=5, n_estimators=50, score=0.778, total=   1.1s\n",
      "[CV] min_samples_leaf=5, n_estimators=50 .............................\n",
      "[CV] . min_samples_leaf=5, n_estimators=50, score=0.783, total=   1.1s\n",
      "[CV] min_samples_leaf=5, n_estimators=50 .............................\n",
      "[CV] . min_samples_leaf=5, n_estimators=50, score=0.779, total=   1.1s\n",
      "[CV] min_samples_leaf=5, n_estimators=50 .............................\n",
      "[CV] . min_samples_leaf=5, n_estimators=50, score=0.779, total=   1.0s\n"
     ]
    },
    {
     "name": "stderr",
     "output_type": "stream",
     "text": [
      "[Parallel(n_jobs=1)]: Done  45 out of  45 | elapsed:   26.4s finished\n"
     ]
    },
    {
     "data": {
      "text/plain": [
       "GridSearchCV(estimator=RandomForestClassifier(),\n",
       "             param_grid={'min_samples_leaf': [1, 3, 5],\n",
       "                         'n_estimators': [5, 10, 50]},\n",
       "             verbose=3)"
      ]
     },
     "execution_count": 15,
     "metadata": {},
     "output_type": "execute_result"
    }
   ],
   "source": [
    "# Fit the model using the grid search estimator. \n",
    "# This will take the SVC model and try each combination of parameters\n",
    "grid.fit(X_train, y_train)"
   ]
  },
  {
   "cell_type": "code",
   "execution_count": 16,
   "metadata": {},
   "outputs": [
    {
     "name": "stdout",
     "output_type": "stream",
     "text": [
      "{'min_samples_leaf': 3, 'n_estimators': 10}\n"
     ]
    }
   ],
   "source": [
    "# List the best parameters for this dataset\n",
    "print(grid.best_params_)"
   ]
  },
  {
   "cell_type": "code",
   "execution_count": null,
   "metadata": {},
   "outputs": [],
   "source": []
  },
  {
   "cell_type": "code",
   "execution_count": 17,
   "metadata": {},
   "outputs": [
    {
     "name": "stdout",
     "output_type": "stream",
     "text": [
      "Training Data Score: 0.998104153089638\n",
      "Testing Data Score: 0.7780344766305314\n"
     ]
    }
   ],
   "source": [
    "# Fit the model to the training data and calculate the scores for the training and testing data\n",
    "\n",
    "### BEGIN SOLUTION\n",
    "model.fit(X_train, y_train)\n",
    "\n",
    "### END SOLUTION \n",
    "\n",
    "print(f\"Training Data Score: {model.score(X_train, y_train)}\")\n",
    "print(f\"Testing Data Score: {model.score(X_test, y_test)}\")"
   ]
  },
  {
   "cell_type": "code",
   "execution_count": 18,
   "metadata": {},
   "outputs": [
    {
     "name": "stdout",
     "output_type": "stream",
     "text": [
      "First 30 Predictions:   ['Completed' 'Completed' 'Terminated' 'Completed' 'Completed' 'Terminated'\n",
      " 'Completed' 'Completed' 'Completed' 'Completed' 'Completed' 'Completed'\n",
      " 'Completed' 'Completed' 'Completed' 'Completed' 'Completed' 'Completed'\n",
      " 'Completed' 'Completed' 'Completed' 'Completed' 'Completed' 'Completed'\n",
      " 'Completed' 'Completed' 'Completed' 'Completed' 'Completed' 'Completed']\n",
      "First 30 Actual labels: ['Completed', 'Completed', 'Terminated', 'Completed', 'Completed', 'Completed', 'Completed', 'Completed', 'Terminated', 'Completed', 'Completed', 'Completed', 'Completed', 'Completed', 'Completed', 'Completed', 'Completed', 'Completed', 'Completed', 'Completed', 'Completed', 'Completed', 'Completed', 'Terminated', 'Terminated', 'Completed', 'Completed', 'Terminated', 'Completed', 'Completed']\n"
     ]
    }
   ],
   "source": [
    "predictions = model.predict(X_test)\n",
    "print(f\"First 30 Predictions:   {predictions[:30]}\")\n",
    "print(f\"First 30 Actual labels: {y_test[:30].tolist()}\")"
   ]
  },
  {
   "cell_type": "code",
   "execution_count": 19,
   "metadata": {},
   "outputs": [
    {
     "data": {
      "text/plain": [
       "array(['Completed', 'Terminated'], dtype=object)"
      ]
     },
     "execution_count": 19,
     "metadata": {},
     "output_type": "execute_result"
    }
   ],
   "source": [
    "np.unique(predictions)"
   ]
  },
  {
   "cell_type": "code",
   "execution_count": 20,
   "metadata": {},
   "outputs": [
    {
     "data": {
      "text/html": [
       "<div>\n",
       "<style scoped>\n",
       "    .dataframe tbody tr th:only-of-type {\n",
       "        vertical-align: middle;\n",
       "    }\n",
       "\n",
       "    .dataframe tbody tr th {\n",
       "        vertical-align: top;\n",
       "    }\n",
       "\n",
       "    .dataframe thead th {\n",
       "        text-align: right;\n",
       "    }\n",
       "</style>\n",
       "<table border=\"1\" class=\"dataframe\">\n",
       "  <thead>\n",
       "    <tr style=\"text-align: right;\">\n",
       "      <th></th>\n",
       "      <th>Prediction</th>\n",
       "      <th>Actual</th>\n",
       "    </tr>\n",
       "  </thead>\n",
       "  <tbody>\n",
       "    <tr>\n",
       "      <th>0</th>\n",
       "      <td>Completed</td>\n",
       "      <td>Completed</td>\n",
       "    </tr>\n",
       "    <tr>\n",
       "      <th>1</th>\n",
       "      <td>Completed</td>\n",
       "      <td>Completed</td>\n",
       "    </tr>\n",
       "    <tr>\n",
       "      <th>2</th>\n",
       "      <td>Terminated</td>\n",
       "      <td>Terminated</td>\n",
       "    </tr>\n",
       "    <tr>\n",
       "      <th>3</th>\n",
       "      <td>Completed</td>\n",
       "      <td>Completed</td>\n",
       "    </tr>\n",
       "    <tr>\n",
       "      <th>4</th>\n",
       "      <td>Completed</td>\n",
       "      <td>Completed</td>\n",
       "    </tr>\n",
       "    <tr>\n",
       "      <th>...</th>\n",
       "      <td>...</td>\n",
       "      <td>...</td>\n",
       "    </tr>\n",
       "    <tr>\n",
       "      <th>5622</th>\n",
       "      <td>Completed</td>\n",
       "      <td>Completed</td>\n",
       "    </tr>\n",
       "    <tr>\n",
       "      <th>5623</th>\n",
       "      <td>Completed</td>\n",
       "      <td>Terminated</td>\n",
       "    </tr>\n",
       "    <tr>\n",
       "      <th>5624</th>\n",
       "      <td>Completed</td>\n",
       "      <td>Completed</td>\n",
       "    </tr>\n",
       "    <tr>\n",
       "      <th>5625</th>\n",
       "      <td>Completed</td>\n",
       "      <td>Terminated</td>\n",
       "    </tr>\n",
       "    <tr>\n",
       "      <th>5626</th>\n",
       "      <td>Completed</td>\n",
       "      <td>Completed</td>\n",
       "    </tr>\n",
       "  </tbody>\n",
       "</table>\n",
       "<p>5627 rows × 2 columns</p>\n",
       "</div>"
      ],
      "text/plain": [
       "      Prediction      Actual\n",
       "0      Completed   Completed\n",
       "1      Completed   Completed\n",
       "2     Terminated  Terminated\n",
       "3      Completed   Completed\n",
       "4      Completed   Completed\n",
       "...          ...         ...\n",
       "5622   Completed   Completed\n",
       "5623   Completed  Terminated\n",
       "5624   Completed   Completed\n",
       "5625   Completed  Terminated\n",
       "5626   Completed   Completed\n",
       "\n",
       "[5627 rows x 2 columns]"
      ]
     },
     "execution_count": 20,
     "metadata": {},
     "output_type": "execute_result"
    }
   ],
   "source": [
    "pd.DataFrame({\"Prediction\": predictions, \"Actual\": y_test}).reset_index(drop=True)"
   ]
  },
  {
   "cell_type": "code",
   "execution_count": 21,
   "metadata": {},
   "outputs": [],
   "source": [
    "#4. save the regression model\n",
    "filename = \"clinical_trial.sav\"\n",
    "pickle.dump(model , open(filename, 'wb'))"
   ]
  },
  {
   "cell_type": "code",
   "execution_count": 22,
   "metadata": {},
   "outputs": [
    {
     "data": {
      "text/html": [
       "<div>\n",
       "<style scoped>\n",
       "    .dataframe tbody tr th:only-of-type {\n",
       "        vertical-align: middle;\n",
       "    }\n",
       "\n",
       "    .dataframe tbody tr th {\n",
       "        vertical-align: top;\n",
       "    }\n",
       "\n",
       "    .dataframe thead th {\n",
       "        text-align: right;\n",
       "    }\n",
       "</style>\n",
       "<table border=\"1\" class=\"dataframe\">\n",
       "  <thead>\n",
       "    <tr style=\"text-align: right;\">\n",
       "      <th></th>\n",
       "      <th>NCTId</th>\n",
       "      <th>OverallStatus</th>\n",
       "      <th>Phase_1</th>\n",
       "      <th>Phase_2</th>\n",
       "      <th>Phase_3</th>\n",
       "      <th>Phase_4</th>\n",
       "      <th>Phase_n/a</th>\n",
       "      <th>51-100</th>\n",
       "      <th>101-200</th>\n",
       "      <th>201-500</th>\n",
       "      <th>...</th>\n",
       "      <th>tb25_No</th>\n",
       "      <th>tb25_Yes</th>\n",
       "      <th>tb27_NonProbabilitySample</th>\n",
       "      <th>tb27_ProbabilitySample</th>\n",
       "      <th>tb28_Adult</th>\n",
       "      <th>tb28_Child</th>\n",
       "      <th>tb28_OlderAdult</th>\n",
       "      <th>tb29_ExpandedAccess</th>\n",
       "      <th>tb29_Interventional</th>\n",
       "      <th>tb29_Observational</th>\n",
       "    </tr>\n",
       "  </thead>\n",
       "  <tbody>\n",
       "    <tr>\n",
       "      <th>11</th>\n",
       "      <td>NCT00000119</td>\n",
       "      <td>Other</td>\n",
       "      <td>0</td>\n",
       "      <td>1</td>\n",
       "      <td>0</td>\n",
       "      <td>0</td>\n",
       "      <td>0</td>\n",
       "      <td>0</td>\n",
       "      <td>0</td>\n",
       "      <td>0</td>\n",
       "      <td>...</td>\n",
       "      <td>0</td>\n",
       "      <td>0</td>\n",
       "      <td>0</td>\n",
       "      <td>0</td>\n",
       "      <td>1</td>\n",
       "      <td>0</td>\n",
       "      <td>1</td>\n",
       "      <td>0</td>\n",
       "      <td>1</td>\n",
       "      <td>0</td>\n",
       "    </tr>\n",
       "    <tr>\n",
       "      <th>955</th>\n",
       "      <td>NCT00001337</td>\n",
       "      <td>Ongoing</td>\n",
       "      <td>0</td>\n",
       "      <td>1</td>\n",
       "      <td>0</td>\n",
       "      <td>0</td>\n",
       "      <td>0</td>\n",
       "      <td>0</td>\n",
       "      <td>0</td>\n",
       "      <td>0</td>\n",
       "      <td>...</td>\n",
       "      <td>0</td>\n",
       "      <td>0</td>\n",
       "      <td>0</td>\n",
       "      <td>0</td>\n",
       "      <td>1</td>\n",
       "      <td>1</td>\n",
       "      <td>1</td>\n",
       "      <td>0</td>\n",
       "      <td>1</td>\n",
       "      <td>0</td>\n",
       "    </tr>\n",
       "    <tr>\n",
       "      <th>991</th>\n",
       "      <td>NCT00001379</td>\n",
       "      <td>Ongoing</td>\n",
       "      <td>0</td>\n",
       "      <td>1</td>\n",
       "      <td>0</td>\n",
       "      <td>0</td>\n",
       "      <td>0</td>\n",
       "      <td>0</td>\n",
       "      <td>0</td>\n",
       "      <td>0</td>\n",
       "      <td>...</td>\n",
       "      <td>0</td>\n",
       "      <td>0</td>\n",
       "      <td>0</td>\n",
       "      <td>0</td>\n",
       "      <td>1</td>\n",
       "      <td>1</td>\n",
       "      <td>1</td>\n",
       "      <td>0</td>\n",
       "      <td>1</td>\n",
       "      <td>0</td>\n",
       "    </tr>\n",
       "    <tr>\n",
       "      <th>1077</th>\n",
       "      <td>NCT00001481</td>\n",
       "      <td>Ongoing</td>\n",
       "      <td>0</td>\n",
       "      <td>1</td>\n",
       "      <td>0</td>\n",
       "      <td>0</td>\n",
       "      <td>0</td>\n",
       "      <td>0</td>\n",
       "      <td>0</td>\n",
       "      <td>0</td>\n",
       "      <td>...</td>\n",
       "      <td>0</td>\n",
       "      <td>0</td>\n",
       "      <td>0</td>\n",
       "      <td>0</td>\n",
       "      <td>1</td>\n",
       "      <td>0</td>\n",
       "      <td>0</td>\n",
       "      <td>0</td>\n",
       "      <td>1</td>\n",
       "      <td>0</td>\n",
       "    </tr>\n",
       "    <tr>\n",
       "      <th>1105</th>\n",
       "      <td>NCT00001521</td>\n",
       "      <td>Ongoing</td>\n",
       "      <td>0</td>\n",
       "      <td>1</td>\n",
       "      <td>0</td>\n",
       "      <td>0</td>\n",
       "      <td>0</td>\n",
       "      <td>0</td>\n",
       "      <td>0</td>\n",
       "      <td>0</td>\n",
       "      <td>...</td>\n",
       "      <td>0</td>\n",
       "      <td>0</td>\n",
       "      <td>0</td>\n",
       "      <td>0</td>\n",
       "      <td>1</td>\n",
       "      <td>1</td>\n",
       "      <td>0</td>\n",
       "      <td>0</td>\n",
       "      <td>1</td>\n",
       "      <td>0</td>\n",
       "    </tr>\n",
       "    <tr>\n",
       "      <th>...</th>\n",
       "      <td>...</td>\n",
       "      <td>...</td>\n",
       "      <td>...</td>\n",
       "      <td>...</td>\n",
       "      <td>...</td>\n",
       "      <td>...</td>\n",
       "      <td>...</td>\n",
       "      <td>...</td>\n",
       "      <td>...</td>\n",
       "      <td>...</td>\n",
       "      <td>...</td>\n",
       "      <td>...</td>\n",
       "      <td>...</td>\n",
       "      <td>...</td>\n",
       "      <td>...</td>\n",
       "      <td>...</td>\n",
       "      <td>...</td>\n",
       "      <td>...</td>\n",
       "      <td>...</td>\n",
       "      <td>...</td>\n",
       "      <td>...</td>\n",
       "    </tr>\n",
       "    <tr>\n",
       "      <th>111553</th>\n",
       "      <td>NCT03424005</td>\n",
       "      <td>Ongoing</td>\n",
       "      <td>1</td>\n",
       "      <td>1</td>\n",
       "      <td>0</td>\n",
       "      <td>0</td>\n",
       "      <td>0</td>\n",
       "      <td>0</td>\n",
       "      <td>0</td>\n",
       "      <td>0</td>\n",
       "      <td>...</td>\n",
       "      <td>0</td>\n",
       "      <td>0</td>\n",
       "      <td>0</td>\n",
       "      <td>0</td>\n",
       "      <td>1</td>\n",
       "      <td>0</td>\n",
       "      <td>1</td>\n",
       "      <td>0</td>\n",
       "      <td>1</td>\n",
       "      <td>0</td>\n",
       "    </tr>\n",
       "    <tr>\n",
       "      <th>111578</th>\n",
       "      <td>NCT03424850</td>\n",
       "      <td>Ongoing</td>\n",
       "      <td>1</td>\n",
       "      <td>1</td>\n",
       "      <td>0</td>\n",
       "      <td>0</td>\n",
       "      <td>0</td>\n",
       "      <td>0</td>\n",
       "      <td>1</td>\n",
       "      <td>0</td>\n",
       "      <td>...</td>\n",
       "      <td>0</td>\n",
       "      <td>0</td>\n",
       "      <td>0</td>\n",
       "      <td>0</td>\n",
       "      <td>1</td>\n",
       "      <td>0</td>\n",
       "      <td>1</td>\n",
       "      <td>0</td>\n",
       "      <td>1</td>\n",
       "      <td>0</td>\n",
       "    </tr>\n",
       "    <tr>\n",
       "      <th>111582</th>\n",
       "      <td>NCT03425006</td>\n",
       "      <td>Ongoing</td>\n",
       "      <td>0</td>\n",
       "      <td>1</td>\n",
       "      <td>0</td>\n",
       "      <td>0</td>\n",
       "      <td>0</td>\n",
       "      <td>0</td>\n",
       "      <td>0</td>\n",
       "      <td>1</td>\n",
       "      <td>...</td>\n",
       "      <td>0</td>\n",
       "      <td>0</td>\n",
       "      <td>0</td>\n",
       "      <td>0</td>\n",
       "      <td>1</td>\n",
       "      <td>0</td>\n",
       "      <td>1</td>\n",
       "      <td>0</td>\n",
       "      <td>1</td>\n",
       "      <td>0</td>\n",
       "    </tr>\n",
       "    <tr>\n",
       "      <th>111584</th>\n",
       "      <td>NCT03425097</td>\n",
       "      <td>Ongoing</td>\n",
       "      <td>0</td>\n",
       "      <td>1</td>\n",
       "      <td>0</td>\n",
       "      <td>0</td>\n",
       "      <td>0</td>\n",
       "      <td>0</td>\n",
       "      <td>0</td>\n",
       "      <td>0</td>\n",
       "      <td>...</td>\n",
       "      <td>0</td>\n",
       "      <td>0</td>\n",
       "      <td>0</td>\n",
       "      <td>0</td>\n",
       "      <td>1</td>\n",
       "      <td>0</td>\n",
       "      <td>1</td>\n",
       "      <td>0</td>\n",
       "      <td>1</td>\n",
       "      <td>0</td>\n",
       "    </tr>\n",
       "    <tr>\n",
       "      <th>111589</th>\n",
       "      <td>NCT03425279</td>\n",
       "      <td>Ongoing</td>\n",
       "      <td>1</td>\n",
       "      <td>1</td>\n",
       "      <td>0</td>\n",
       "      <td>0</td>\n",
       "      <td>0</td>\n",
       "      <td>0</td>\n",
       "      <td>0</td>\n",
       "      <td>0</td>\n",
       "      <td>...</td>\n",
       "      <td>0</td>\n",
       "      <td>0</td>\n",
       "      <td>0</td>\n",
       "      <td>0</td>\n",
       "      <td>1</td>\n",
       "      <td>0</td>\n",
       "      <td>1</td>\n",
       "      <td>0</td>\n",
       "      <td>1</td>\n",
       "      <td>0</td>\n",
       "    </tr>\n",
       "  </tbody>\n",
       "</table>\n",
       "<p>5078 rows × 190 columns</p>\n",
       "</div>"
      ],
      "text/plain": [
       "              NCTId OverallStatus  Phase_1  Phase_2  Phase_3  Phase_4  \\\n",
       "11      NCT00000119         Other        0        1        0        0   \n",
       "955     NCT00001337       Ongoing        0        1        0        0   \n",
       "991     NCT00001379       Ongoing        0        1        0        0   \n",
       "1077    NCT00001481       Ongoing        0        1        0        0   \n",
       "1105    NCT00001521       Ongoing        0        1        0        0   \n",
       "...             ...           ...      ...      ...      ...      ...   \n",
       "111553  NCT03424005       Ongoing        1        1        0        0   \n",
       "111578  NCT03424850       Ongoing        1        1        0        0   \n",
       "111582  NCT03425006       Ongoing        0        1        0        0   \n",
       "111584  NCT03425097       Ongoing        0        1        0        0   \n",
       "111589  NCT03425279       Ongoing        1        1        0        0   \n",
       "\n",
       "        Phase_n/a  51-100  101-200  201-500  ...  tb25_No  tb25_Yes  \\\n",
       "11              0       0        0        0  ...        0         0   \n",
       "955             0       0        0        0  ...        0         0   \n",
       "991             0       0        0        0  ...        0         0   \n",
       "1077            0       0        0        0  ...        0         0   \n",
       "1105            0       0        0        0  ...        0         0   \n",
       "...           ...     ...      ...      ...  ...      ...       ...   \n",
       "111553          0       0        0        0  ...        0         0   \n",
       "111578          0       0        1        0  ...        0         0   \n",
       "111582          0       0        0        1  ...        0         0   \n",
       "111584          0       0        0        0  ...        0         0   \n",
       "111589          0       0        0        0  ...        0         0   \n",
       "\n",
       "        tb27_NonProbabilitySample  tb27_ProbabilitySample  tb28_Adult  \\\n",
       "11                              0                       0           1   \n",
       "955                             0                       0           1   \n",
       "991                             0                       0           1   \n",
       "1077                            0                       0           1   \n",
       "1105                            0                       0           1   \n",
       "...                           ...                     ...         ...   \n",
       "111553                          0                       0           1   \n",
       "111578                          0                       0           1   \n",
       "111582                          0                       0           1   \n",
       "111584                          0                       0           1   \n",
       "111589                          0                       0           1   \n",
       "\n",
       "        tb28_Child  tb28_OlderAdult  tb29_ExpandedAccess  tb29_Interventional  \\\n",
       "11               0                1                    0                    1   \n",
       "955              1                1                    0                    1   \n",
       "991              1                1                    0                    1   \n",
       "1077             0                0                    0                    1   \n",
       "1105             1                0                    0                    1   \n",
       "...            ...              ...                  ...                  ...   \n",
       "111553           0                1                    0                    1   \n",
       "111578           0                1                    0                    1   \n",
       "111582           0                1                    0                    1   \n",
       "111584           0                1                    0                    1   \n",
       "111589           0                1                    0                    1   \n",
       "\n",
       "        tb29_Observational  \n",
       "11                       0  \n",
       "955                      0  \n",
       "991                      0  \n",
       "1077                     0  \n",
       "1105                     0  \n",
       "...                    ...  \n",
       "111553                   0  \n",
       "111578                   0  \n",
       "111582                   0  \n",
       "111584                   0  \n",
       "111589                   0  \n",
       "\n",
       "[5078 rows x 190 columns]"
      ]
     },
     "execution_count": 22,
     "metadata": {},
     "output_type": "execute_result"
    }
   ],
   "source": [
    "### Try applying the model into other non-concluded trial.\n",
    "\n",
    "### Predict using other data\n",
    "\n",
    "df_other_trial = df_new[ df_new[\"Phase_2\"] == 1 ]\n",
    "df_other_trial = df_other_trial[ (df_other_trial[\"OverallStatus\"] != \"Completed\") & (df_other_trial[\"OverallStatus\"] != \"Terminated\") ]\n",
    "df_other_trial\n"
   ]
  },
  {
   "cell_type": "code",
   "execution_count": 23,
   "metadata": {},
   "outputs": [
    {
     "data": {
      "text/plain": [
       "array(['Other', 'Ongoing'], dtype=object)"
      ]
     },
     "execution_count": 23,
     "metadata": {},
     "output_type": "execute_result"
    }
   ],
   "source": [
    "df_other_trial[\"OverallStatus\"].unique()"
   ]
  },
  {
   "cell_type": "code",
   "execution_count": 24,
   "metadata": {},
   "outputs": [
    {
     "data": {
      "text/plain": [
       "array(['NCT00000119', 'NCT00001337', 'NCT00001379', ..., 'NCT03425006',\n",
       "       'NCT03425097', 'NCT03425279'], dtype=object)"
      ]
     },
     "execution_count": 24,
     "metadata": {},
     "output_type": "execute_result"
    }
   ],
   "source": [
    "### Extract the NCTID of each trial to be used for visualization later\n",
    "\n",
    "other_NCTId = df_other_trial[\"NCTId\"].values\n",
    "other_NCTId"
   ]
  },
  {
   "cell_type": "code",
   "execution_count": 25,
   "metadata": {},
   "outputs": [
    {
     "name": "stdout",
     "output_type": "stream",
     "text": [
      "(22506, 183) (22506,)\n"
     ]
    }
   ],
   "source": [
    "### 5.b Assign data to X and Y\n",
    "\n",
    "X_other = df_other_trial[X_name]\n",
    "y_other = df_other_trial[\"OverallStatus\"]\n",
    "print(X.shape , y.shape)"
   ]
  },
  {
   "cell_type": "code",
   "execution_count": 26,
   "metadata": {},
   "outputs": [
    {
     "name": "stdout",
     "output_type": "stream",
     "text": [
      "First 30 Predictions:   ['Completed' 'Completed' 'Terminated' 'Completed' 'Completed' 'Terminated'\n",
      " 'Completed' 'Completed' 'Completed' 'Completed' 'Completed' 'Completed'\n",
      " 'Completed' 'Completed' 'Completed' 'Completed' 'Completed' 'Completed'\n",
      " 'Completed' 'Completed' 'Completed' 'Completed' 'Completed' 'Completed'\n",
      " 'Completed' 'Completed' 'Completed' 'Completed' 'Completed' 'Completed']\n"
     ]
    }
   ],
   "source": [
    "predictions_other = model.predict(X_other)\n",
    "print(f\"First 30 Predictions:   {predictions[:30]}\")"
   ]
  },
  {
   "cell_type": "code",
   "execution_count": 27,
   "metadata": {},
   "outputs": [
    {
     "data": {
      "text/html": [
       "<div>\n",
       "<style scoped>\n",
       "    .dataframe tbody tr th:only-of-type {\n",
       "        vertical-align: middle;\n",
       "    }\n",
       "\n",
       "    .dataframe tbody tr th {\n",
       "        vertical-align: top;\n",
       "    }\n",
       "\n",
       "    .dataframe thead th {\n",
       "        text-align: right;\n",
       "    }\n",
       "</style>\n",
       "<table border=\"1\" class=\"dataframe\">\n",
       "  <thead>\n",
       "    <tr style=\"text-align: right;\">\n",
       "      <th></th>\n",
       "      <th>Prediction</th>\n",
       "      <th>value_count</th>\n",
       "      <th>NCTId</th>\n",
       "    </tr>\n",
       "  </thead>\n",
       "  <tbody>\n",
       "    <tr>\n",
       "      <th>0</th>\n",
       "      <td>Completed</td>\n",
       "      <td>1</td>\n",
       "      <td>NCT00000119</td>\n",
       "    </tr>\n",
       "    <tr>\n",
       "      <th>1</th>\n",
       "      <td>Completed</td>\n",
       "      <td>1</td>\n",
       "      <td>NCT00001337</td>\n",
       "    </tr>\n",
       "    <tr>\n",
       "      <th>2</th>\n",
       "      <td>Completed</td>\n",
       "      <td>1</td>\n",
       "      <td>NCT00001379</td>\n",
       "    </tr>\n",
       "    <tr>\n",
       "      <th>3</th>\n",
       "      <td>Completed</td>\n",
       "      <td>1</td>\n",
       "      <td>NCT00001481</td>\n",
       "    </tr>\n",
       "    <tr>\n",
       "      <th>4</th>\n",
       "      <td>Completed</td>\n",
       "      <td>1</td>\n",
       "      <td>NCT00001521</td>\n",
       "    </tr>\n",
       "    <tr>\n",
       "      <th>...</th>\n",
       "      <td>...</td>\n",
       "      <td>...</td>\n",
       "      <td>...</td>\n",
       "    </tr>\n",
       "    <tr>\n",
       "      <th>5073</th>\n",
       "      <td>Completed</td>\n",
       "      <td>1</td>\n",
       "      <td>NCT03424005</td>\n",
       "    </tr>\n",
       "    <tr>\n",
       "      <th>5074</th>\n",
       "      <td>Completed</td>\n",
       "      <td>1</td>\n",
       "      <td>NCT03424850</td>\n",
       "    </tr>\n",
       "    <tr>\n",
       "      <th>5075</th>\n",
       "      <td>Terminated</td>\n",
       "      <td>1</td>\n",
       "      <td>NCT03425006</td>\n",
       "    </tr>\n",
       "    <tr>\n",
       "      <th>5076</th>\n",
       "      <td>Completed</td>\n",
       "      <td>1</td>\n",
       "      <td>NCT03425097</td>\n",
       "    </tr>\n",
       "    <tr>\n",
       "      <th>5077</th>\n",
       "      <td>Completed</td>\n",
       "      <td>1</td>\n",
       "      <td>NCT03425279</td>\n",
       "    </tr>\n",
       "  </tbody>\n",
       "</table>\n",
       "<p>5078 rows × 3 columns</p>\n",
       "</div>"
      ],
      "text/plain": [
       "      Prediction  value_count        NCTId\n",
       "0      Completed            1  NCT00000119\n",
       "1      Completed            1  NCT00001337\n",
       "2      Completed            1  NCT00001379\n",
       "3      Completed            1  NCT00001481\n",
       "4      Completed            1  NCT00001521\n",
       "...          ...          ...          ...\n",
       "5073   Completed            1  NCT03424005\n",
       "5074   Completed            1  NCT03424850\n",
       "5075  Terminated            1  NCT03425006\n",
       "5076   Completed            1  NCT03425097\n",
       "5077   Completed            1  NCT03425279\n",
       "\n",
       "[5078 rows x 3 columns]"
      ]
     },
     "execution_count": 27,
     "metadata": {},
     "output_type": "execute_result"
    }
   ],
   "source": [
    "other_result = pd.DataFrame({\"Prediction\": predictions_other}).reset_index(drop=True)\n",
    "other_result[\"value_count\"] = 1\n",
    "\n",
    "other_result [\"NCTId\"] = other_NCTId\n",
    "\n",
    "other_result"
   ]
  },
  {
   "cell_type": "code",
   "execution_count": 28,
   "metadata": {},
   "outputs": [],
   "source": [
    "other_result.to_csv('RandomForest_Result.csv')"
   ]
  },
  {
   "cell_type": "code",
   "execution_count": 29,
   "metadata": {},
   "outputs": [
    {
     "data": {
      "text/html": [
       "<div>\n",
       "<style scoped>\n",
       "    .dataframe tbody tr th:only-of-type {\n",
       "        vertical-align: middle;\n",
       "    }\n",
       "\n",
       "    .dataframe tbody tr th {\n",
       "        vertical-align: top;\n",
       "    }\n",
       "\n",
       "    .dataframe thead th {\n",
       "        text-align: right;\n",
       "    }\n",
       "</style>\n",
       "<table border=\"1\" class=\"dataframe\">\n",
       "  <thead>\n",
       "    <tr style=\"text-align: right;\">\n",
       "      <th></th>\n",
       "      <th>value_count</th>\n",
       "    </tr>\n",
       "    <tr>\n",
       "      <th>Prediction</th>\n",
       "      <th></th>\n",
       "    </tr>\n",
       "  </thead>\n",
       "  <tbody>\n",
       "    <tr>\n",
       "      <th>Completed</th>\n",
       "      <td>4214</td>\n",
       "    </tr>\n",
       "    <tr>\n",
       "      <th>Terminated</th>\n",
       "      <td>864</td>\n",
       "    </tr>\n",
       "  </tbody>\n",
       "</table>\n",
       "</div>"
      ],
      "text/plain": [
       "            value_count\n",
       "Prediction             \n",
       "Completed          4214\n",
       "Terminated          864"
      ]
     },
     "execution_count": 29,
     "metadata": {},
     "output_type": "execute_result"
    }
   ],
   "source": [
    "other_result.groupby(\"Prediction\").sum()"
   ]
  },
  {
   "cell_type": "code",
   "execution_count": 30,
   "metadata": {},
   "outputs": [],
   "source": [
    "df_no_phase=df_other_trial.drop(columns=[\"Phase_1\",\"Phase_2\",\"Phase_3\",\"Phase_4\",\"Phase_n/a\",\"OverallStatus\",\"NCTId\"])"
   ]
  },
  {
   "cell_type": "code",
   "execution_count": 31,
   "metadata": {},
   "outputs": [],
   "source": [
    "feature_df = pd.DataFrame(sorted(zip(model.feature_importances_, df_no_phase.columns.tolist()[1:]), reverse=True))"
   ]
  },
  {
   "cell_type": "code",
   "execution_count": 32,
   "metadata": {},
   "outputs": [],
   "source": [
    "feature_df.to_csv(\"feature_strength.csv\")"
   ]
  },
  {
   "cell_type": "code",
   "execution_count": null,
   "metadata": {},
   "outputs": [],
   "source": []
  }
 ],
 "metadata": {
  "kernelspec": {
   "display_name": "Python 3",
   "language": "python",
   "name": "python3"
  },
  "language_info": {
   "codemirror_mode": {
    "name": "ipython",
    "version": 3
   },
   "file_extension": ".py",
   "mimetype": "text/x-python",
   "name": "python",
   "nbconvert_exporter": "python",
   "pygments_lexer": "ipython3",
   "version": "3.7.4"
  }
 },
 "nbformat": 4,
 "nbformat_minor": 2
}
