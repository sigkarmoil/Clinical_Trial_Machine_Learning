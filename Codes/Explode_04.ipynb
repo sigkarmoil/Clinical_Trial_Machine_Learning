{
 "cells": [
  {
   "cell_type": "code",
   "execution_count": 33,
   "metadata": {},
   "outputs": [],
   "source": [
    "# Dependencies\n",
    "import json\n",
    "import os\n",
    "import pandas as pd"
   ]
  },
  {
   "cell_type": "code",
   "execution_count": 34,
   "metadata": {},
   "outputs": [],
   "source": [
    "#open json\n",
    "object_path = 'sample_data.json'\n",
    "with open(object_path) as jsonfile:\n",
    "       data_json = json.load(jsonfile)\n",
    "df_from_json = pd.DataFrame(data_json)"
   ]
  },
  {
   "cell_type": "code",
   "execution_count": 35,
   "metadata": {},
   "outputs": [
    {
     "data": {
      "text/html": [
       "<div>\n",
       "<style scoped>\n",
       "    .dataframe tbody tr th:only-of-type {\n",
       "        vertical-align: middle;\n",
       "    }\n",
       "\n",
       "    .dataframe tbody tr th {\n",
       "        vertical-align: top;\n",
       "    }\n",
       "\n",
       "    .dataframe thead th {\n",
       "        text-align: right;\n",
       "    }\n",
       "</style>\n",
       "<table border=\"1\" class=\"dataframe\">\n",
       "  <thead>\n",
       "    <tr style=\"text-align: right;\">\n",
       "      <th></th>\n",
       "      <th>NCTId</th>\n",
       "      <th>ArmGroupInterventionName</th>\n",
       "      <th>ArmGroupType</th>\n",
       "      <th>BaselineMeasureDispersionType</th>\n",
       "      <th>BaselineMeasureParamType</th>\n",
       "      <th>CollaboratorClass</th>\n",
       "      <th>ConditionAncestorId</th>\n",
       "      <th>ConditionBrowseBranchAbbrev</th>\n",
       "      <th>ConditionBrowseLeafId</th>\n",
       "      <th>ConditionMeshId</th>\n",
       "      <th>...</th>\n",
       "      <th>InterventionType</th>\n",
       "      <th>IsFDARegulatedDevice</th>\n",
       "      <th>IsFDARegulatedDrug</th>\n",
       "      <th>LeadSponsorClass</th>\n",
       "      <th>OverallStatus</th>\n",
       "      <th>PatientRegistry</th>\n",
       "      <th>Phase</th>\n",
       "      <th>SamplingMethod</th>\n",
       "      <th>StdAge</th>\n",
       "      <th>StudyType</th>\n",
       "    </tr>\n",
       "  </thead>\n",
       "  <tbody>\n",
       "    <tr>\n",
       "      <th>0</th>\n",
       "      <td>NCT04371159</td>\n",
       "      <td>Device: Velieve U.S.</td>\n",
       "      <td>Experimental</td>\n",
       "      <td>0</td>\n",
       "      <td>0</td>\n",
       "      <td>0</td>\n",
       "      <td>[D000007239, D000014570]</td>\n",
       "      <td>[BC01, All, BXS]</td>\n",
       "      <td>[M8866, M4951, M15885, M15902]</td>\n",
       "      <td>D000014552</td>\n",
       "      <td>...</td>\n",
       "      <td>Device</td>\n",
       "      <td>Yes</td>\n",
       "      <td>No</td>\n",
       "      <td>INDUSTRY</td>\n",
       "      <td>Completed</td>\n",
       "      <td>0</td>\n",
       "      <td>Not Applicable</td>\n",
       "      <td>0</td>\n",
       "      <td>[Adult, Older Adult]</td>\n",
       "      <td>Interventional</td>\n",
       "    </tr>\n",
       "    <tr>\n",
       "      <th>1</th>\n",
       "      <td>NCT04474496</td>\n",
       "      <td>Other: Assessing impact of COVID19</td>\n",
       "      <td>0</td>\n",
       "      <td>0</td>\n",
       "      <td>0</td>\n",
       "      <td>OTHER</td>\n",
       "      <td>0</td>\n",
       "      <td>[BC18, BC19, All]</td>\n",
       "      <td>[M5698, M5702]</td>\n",
       "      <td>0</td>\n",
       "      <td>...</td>\n",
       "      <td>Other</td>\n",
       "      <td>No</td>\n",
       "      <td>No</td>\n",
       "      <td>OTHER</td>\n",
       "      <td>Enrolling by invitation</td>\n",
       "      <td>No</td>\n",
       "      <td>0</td>\n",
       "      <td>Non-Probability Sample</td>\n",
       "      <td>[Adult, Older Adult]</td>\n",
       "      <td>Observational</td>\n",
       "    </tr>\n",
       "    <tr>\n",
       "      <th>2</th>\n",
       "      <td>NCT02801266</td>\n",
       "      <td>Behavioral: Evidence informed birth control co...</td>\n",
       "      <td>[Experimental, No Intervention]</td>\n",
       "      <td>0</td>\n",
       "      <td>0</td>\n",
       "      <td>OTHER</td>\n",
       "      <td>0</td>\n",
       "      <td>0</td>\n",
       "      <td>0</td>\n",
       "      <td>0</td>\n",
       "      <td>...</td>\n",
       "      <td>Behavioral</td>\n",
       "      <td>0</td>\n",
       "      <td>0</td>\n",
       "      <td>OTHER</td>\n",
       "      <td>Completed</td>\n",
       "      <td>0</td>\n",
       "      <td>Not Applicable</td>\n",
       "      <td>0</td>\n",
       "      <td>Adult</td>\n",
       "      <td>Interventional</td>\n",
       "    </tr>\n",
       "    <tr>\n",
       "      <th>3</th>\n",
       "      <td>NCT01599390</td>\n",
       "      <td>Other: Data collection</td>\n",
       "      <td>0</td>\n",
       "      <td>0</td>\n",
       "      <td>0</td>\n",
       "      <td>INDUSTRY</td>\n",
       "      <td>[D000009976, D000012327, D000014777, D00001214...</td>\n",
       "      <td>[BC02, BC08, All, BC01]</td>\n",
       "      <td>[M8878, M8866, M4951, M11485, M16105, M13732, ...</td>\n",
       "      <td>D000007251</td>\n",
       "      <td>...</td>\n",
       "      <td>Other</td>\n",
       "      <td>0</td>\n",
       "      <td>0</td>\n",
       "      <td>INDUSTRY</td>\n",
       "      <td>Completed</td>\n",
       "      <td>0</td>\n",
       "      <td>0</td>\n",
       "      <td>Non-Probability Sample</td>\n",
       "      <td>[Child, Adult, Older Adult]</td>\n",
       "      <td>Observational</td>\n",
       "    </tr>\n",
       "    <tr>\n",
       "      <th>4</th>\n",
       "      <td>NCT00312702</td>\n",
       "      <td>[Biological: Falciparum Malaria Protein 11 wit...</td>\n",
       "      <td>[Experimental, Experimental]</td>\n",
       "      <td>Standard Deviation</td>\n",
       "      <td>[Mean, Count of Participants, Count of Partici...</td>\n",
       "      <td>[INDUSTRY, OTHER, FED]</td>\n",
       "      <td>[D000011528, D000010272]</td>\n",
       "      <td>[BC03, All, BC01, Rare]</td>\n",
       "      <td>[M17716, M9863, M8866, M4951, M12971, M11768, ...</td>\n",
       "      <td>[D000008288, D000016778]</td>\n",
       "      <td>...</td>\n",
       "      <td>Biological</td>\n",
       "      <td>0</td>\n",
       "      <td>0</td>\n",
       "      <td>FED</td>\n",
       "      <td>Completed</td>\n",
       "      <td>0</td>\n",
       "      <td>[Phase 1, Phase 2]</td>\n",
       "      <td>0</td>\n",
       "      <td>Adult</td>\n",
       "      <td>Interventional</td>\n",
       "    </tr>\n",
       "    <tr>\n",
       "      <th>...</th>\n",
       "      <td>...</td>\n",
       "      <td>...</td>\n",
       "      <td>...</td>\n",
       "      <td>...</td>\n",
       "      <td>...</td>\n",
       "      <td>...</td>\n",
       "      <td>...</td>\n",
       "      <td>...</td>\n",
       "      <td>...</td>\n",
       "      <td>...</td>\n",
       "      <td>...</td>\n",
       "      <td>...</td>\n",
       "      <td>...</td>\n",
       "      <td>...</td>\n",
       "      <td>...</td>\n",
       "      <td>...</td>\n",
       "      <td>...</td>\n",
       "      <td>...</td>\n",
       "      <td>...</td>\n",
       "      <td>...</td>\n",
       "      <td>...</td>\n",
       "    </tr>\n",
       "    <tr>\n",
       "      <th>9995</th>\n",
       "      <td>NCT03768310</td>\n",
       "      <td>[Biological: CD19.CAR-multiVST for Group A, Bi...</td>\n",
       "      <td>[Experimental, Experimental]</td>\n",
       "      <td>0</td>\n",
       "      <td>0</td>\n",
       "      <td>[OTHER, OTHER]</td>\n",
       "      <td>[D000009370, D000009369, D000008232, D00000820...</td>\n",
       "      <td>[BC04, All, BC15, BC20, Rare]</td>\n",
       "      <td>[M9528, M9803, M26172, M9534, M10898, M9808, M...</td>\n",
       "      <td>D000054198</td>\n",
       "      <td>...</td>\n",
       "      <td>[Biological, Biological]</td>\n",
       "      <td>No</td>\n",
       "      <td>Yes</td>\n",
       "      <td>OTHER</td>\n",
       "      <td>Not yet recruiting</td>\n",
       "      <td>0</td>\n",
       "      <td>Phase 1</td>\n",
       "      <td>0</td>\n",
       "      <td>[Child, Adult, Older Adult]</td>\n",
       "      <td>Interventional</td>\n",
       "    </tr>\n",
       "    <tr>\n",
       "      <th>9996</th>\n",
       "      <td>NCT03768206</td>\n",
       "      <td>[Behavioral: Standard Physical Therapy, Behavi...</td>\n",
       "      <td>[Experimental, Active Comparator]</td>\n",
       "      <td>0</td>\n",
       "      <td>0</td>\n",
       "      <td>OTHER</td>\n",
       "      <td>0</td>\n",
       "      <td>0</td>\n",
       "      <td>0</td>\n",
       "      <td>0</td>\n",
       "      <td>...</td>\n",
       "      <td>[Behavioral, Behavioral, Behavioral]</td>\n",
       "      <td>No</td>\n",
       "      <td>No</td>\n",
       "      <td>OTHER</td>\n",
       "      <td>Completed</td>\n",
       "      <td>0</td>\n",
       "      <td>Not Applicable</td>\n",
       "      <td>0</td>\n",
       "      <td>[Adult, Older Adult]</td>\n",
       "      <td>Interventional</td>\n",
       "    </tr>\n",
       "    <tr>\n",
       "      <th>9997</th>\n",
       "      <td>NCT03767738</td>\n",
       "      <td>Drug: Intravitreal Aflibercept Injection (IAI)</td>\n",
       "      <td>Experimental</td>\n",
       "      <td>0</td>\n",
       "      <td>0</td>\n",
       "      <td>0</td>\n",
       "      <td>D000002318</td>\n",
       "      <td>[BC14, All]</td>\n",
       "      <td>M15983</td>\n",
       "      <td>D000014652</td>\n",
       "      <td>...</td>\n",
       "      <td>Drug</td>\n",
       "      <td>No</td>\n",
       "      <td>Yes</td>\n",
       "      <td>INDUSTRY</td>\n",
       "      <td>Completed</td>\n",
       "      <td>0</td>\n",
       "      <td>Phase 4</td>\n",
       "      <td>0</td>\n",
       "      <td>[Adult, Older Adult]</td>\n",
       "      <td>Interventional</td>\n",
       "    </tr>\n",
       "    <tr>\n",
       "      <th>9998</th>\n",
       "      <td>NCT03767595</td>\n",
       "      <td>Device: ProACT Adjustable Continence Therapy f...</td>\n",
       "      <td>Experimental</td>\n",
       "      <td>0</td>\n",
       "      <td>0</td>\n",
       "      <td>0</td>\n",
       "      <td>[D000014555, D000014570, D000059411, D000020924]</td>\n",
       "      <td>[BXS, BC23, All, BXM]</td>\n",
       "      <td>[M15882, M6519, M15883, M15888, M15902, M28051...</td>\n",
       "      <td>[D000014549, D000014550]</td>\n",
       "      <td>...</td>\n",
       "      <td>Device</td>\n",
       "      <td>Yes</td>\n",
       "      <td>No</td>\n",
       "      <td>INDUSTRY</td>\n",
       "      <td>Recruiting</td>\n",
       "      <td>0</td>\n",
       "      <td>Not Applicable</td>\n",
       "      <td>0</td>\n",
       "      <td>[Adult, Older Adult]</td>\n",
       "      <td>Interventional</td>\n",
       "    </tr>\n",
       "    <tr>\n",
       "      <th>9999</th>\n",
       "      <td>NCT03766373</td>\n",
       "      <td>[Combination Product: Drug: OP0201 20mg, Combi...</td>\n",
       "      <td>[Active Comparator, Placebo Comparator]</td>\n",
       "      <td>Standard Deviation</td>\n",
       "      <td>[Mean, Count of Participants, Count of Partici...</td>\n",
       "      <td>0</td>\n",
       "      <td>[D000004427, D000010038]</td>\n",
       "      <td>[BC09, All, BC23]</td>\n",
       "      <td>[M11537, M11539, M11649, M6190, M6184, M11544]</td>\n",
       "      <td>[D000010031, D000010033]</td>\n",
       "      <td>...</td>\n",
       "      <td>[Combination Product, Combination Product]</td>\n",
       "      <td>No</td>\n",
       "      <td>Yes</td>\n",
       "      <td>INDUSTRY</td>\n",
       "      <td>Completed</td>\n",
       "      <td>0</td>\n",
       "      <td>Phase 1</td>\n",
       "      <td>0</td>\n",
       "      <td>[Adult, Older Adult]</td>\n",
       "      <td>Interventional</td>\n",
       "    </tr>\n",
       "  </tbody>\n",
       "</table>\n",
       "<p>10000 rows × 30 columns</p>\n",
       "</div>"
      ],
      "text/plain": [
       "            NCTId                           ArmGroupInterventionName  \\\n",
       "0     NCT04371159                               Device: Velieve U.S.   \n",
       "1     NCT04474496                 Other: Assessing impact of COVID19   \n",
       "2     NCT02801266  Behavioral: Evidence informed birth control co...   \n",
       "3     NCT01599390                             Other: Data collection   \n",
       "4     NCT00312702  [Biological: Falciparum Malaria Protein 11 wit...   \n",
       "...           ...                                                ...   \n",
       "9995  NCT03768310  [Biological: CD19.CAR-multiVST for Group A, Bi...   \n",
       "9996  NCT03768206  [Behavioral: Standard Physical Therapy, Behavi...   \n",
       "9997  NCT03767738     Drug: Intravitreal Aflibercept Injection (IAI)   \n",
       "9998  NCT03767595  Device: ProACT Adjustable Continence Therapy f...   \n",
       "9999  NCT03766373  [Combination Product: Drug: OP0201 20mg, Combi...   \n",
       "\n",
       "                                 ArmGroupType BaselineMeasureDispersionType  \\\n",
       "0                                Experimental                             0   \n",
       "1                                           0                             0   \n",
       "2             [Experimental, No Intervention]                             0   \n",
       "3                                           0                             0   \n",
       "4                [Experimental, Experimental]            Standard Deviation   \n",
       "...                                       ...                           ...   \n",
       "9995             [Experimental, Experimental]                             0   \n",
       "9996        [Experimental, Active Comparator]                             0   \n",
       "9997                             Experimental                             0   \n",
       "9998                             Experimental                             0   \n",
       "9999  [Active Comparator, Placebo Comparator]            Standard Deviation   \n",
       "\n",
       "                               BaselineMeasureParamType  \\\n",
       "0                                                     0   \n",
       "1                                                     0   \n",
       "2                                                     0   \n",
       "3                                                     0   \n",
       "4     [Mean, Count of Participants, Count of Partici...   \n",
       "...                                                 ...   \n",
       "9995                                                  0   \n",
       "9996                                                  0   \n",
       "9997                                                  0   \n",
       "9998                                                  0   \n",
       "9999  [Mean, Count of Participants, Count of Partici...   \n",
       "\n",
       "           CollaboratorClass  \\\n",
       "0                          0   \n",
       "1                      OTHER   \n",
       "2                      OTHER   \n",
       "3                   INDUSTRY   \n",
       "4     [INDUSTRY, OTHER, FED]   \n",
       "...                      ...   \n",
       "9995          [OTHER, OTHER]   \n",
       "9996                   OTHER   \n",
       "9997                       0   \n",
       "9998                       0   \n",
       "9999                       0   \n",
       "\n",
       "                                   ConditionAncestorId   \\\n",
       "0                              [D000007239, D000014570]   \n",
       "1                                                     0   \n",
       "2                                                     0   \n",
       "3     [D000009976, D000012327, D000014777, D00001214...   \n",
       "4                              [D000011528, D000010272]   \n",
       "...                                                 ...   \n",
       "9995  [D000009370, D000009369, D000008232, D00000820...   \n",
       "9996                                                  0   \n",
       "9997                                         D000002318   \n",
       "9998   [D000014555, D000014570, D000059411, D000020924]   \n",
       "9999                           [D000004427, D000010038]   \n",
       "\n",
       "        ConditionBrowseBranchAbbrev  \\\n",
       "0                  [BC01, All, BXS]   \n",
       "1                 [BC18, BC19, All]   \n",
       "2                                 0   \n",
       "3           [BC02, BC08, All, BC01]   \n",
       "4           [BC03, All, BC01, Rare]   \n",
       "...                             ...   \n",
       "9995  [BC04, All, BC15, BC20, Rare]   \n",
       "9996                              0   \n",
       "9997                    [BC14, All]   \n",
       "9998          [BXS, BC23, All, BXM]   \n",
       "9999              [BC09, All, BC23]   \n",
       "\n",
       "                                  ConditionBrowseLeafId  \\\n",
       "0                        [M8866, M4951, M15885, M15902]   \n",
       "1                                        [M5698, M5702]   \n",
       "2                                                     0   \n",
       "3     [M8878, M8866, M4951, M11485, M16105, M13732, ...   \n",
       "4     [M17716, M9863, M8866, M4951, M12971, M11768, ...   \n",
       "...                                                 ...   \n",
       "9995  [M9528, M9803, M26172, M9534, M10898, M9808, M...   \n",
       "9996                                                  0   \n",
       "9997                                             M15983   \n",
       "9998  [M15882, M6519, M15883, M15888, M15902, M28051...   \n",
       "9999     [M11537, M11539, M11649, M6190, M6184, M11544]   \n",
       "\n",
       "               ConditionMeshId  ...  \\\n",
       "0                   D000014552  ...   \n",
       "1                            0  ...   \n",
       "2                            0  ...   \n",
       "3                   D000007251  ...   \n",
       "4     [D000008288, D000016778]  ...   \n",
       "...                        ...  ...   \n",
       "9995                D000054198  ...   \n",
       "9996                         0  ...   \n",
       "9997                D000014652  ...   \n",
       "9998  [D000014549, D000014550]  ...   \n",
       "9999  [D000010031, D000010033]  ...   \n",
       "\n",
       "                                InterventionType IsFDARegulatedDevice  \\\n",
       "0                                         Device                  Yes   \n",
       "1                                          Other                   No   \n",
       "2                                     Behavioral                    0   \n",
       "3                                          Other                    0   \n",
       "4                                     Biological                    0   \n",
       "...                                          ...                  ...   \n",
       "9995                    [Biological, Biological]                   No   \n",
       "9996        [Behavioral, Behavioral, Behavioral]                   No   \n",
       "9997                                        Drug                   No   \n",
       "9998                                      Device                  Yes   \n",
       "9999  [Combination Product, Combination Product]                   No   \n",
       "\n",
       "     IsFDARegulatedDrug LeadSponsorClass            OverallStatus  \\\n",
       "0                    No         INDUSTRY                Completed   \n",
       "1                    No            OTHER  Enrolling by invitation   \n",
       "2                     0            OTHER                Completed   \n",
       "3                     0         INDUSTRY                Completed   \n",
       "4                     0              FED                Completed   \n",
       "...                 ...              ...                      ...   \n",
       "9995                Yes            OTHER       Not yet recruiting   \n",
       "9996                 No            OTHER                Completed   \n",
       "9997                Yes         INDUSTRY                Completed   \n",
       "9998                 No         INDUSTRY               Recruiting   \n",
       "9999                Yes         INDUSTRY                Completed   \n",
       "\n",
       "     PatientRegistry               Phase         SamplingMethod   \\\n",
       "0                  0      Not Applicable                       0   \n",
       "1                 No                   0  Non-Probability Sample   \n",
       "2                  0      Not Applicable                       0   \n",
       "3                  0                   0  Non-Probability Sample   \n",
       "4                  0  [Phase 1, Phase 2]                       0   \n",
       "...              ...                 ...                     ...   \n",
       "9995               0             Phase 1                       0   \n",
       "9996               0      Not Applicable                       0   \n",
       "9997               0             Phase 4                       0   \n",
       "9998               0      Not Applicable                       0   \n",
       "9999               0             Phase 1                       0   \n",
       "\n",
       "                           StdAge       StudyType  \n",
       "0            [Adult, Older Adult]  Interventional  \n",
       "1            [Adult, Older Adult]   Observational  \n",
       "2                           Adult  Interventional  \n",
       "3     [Child, Adult, Older Adult]   Observational  \n",
       "4                           Adult  Interventional  \n",
       "...                           ...             ...  \n",
       "9995  [Child, Adult, Older Adult]  Interventional  \n",
       "9996         [Adult, Older Adult]  Interventional  \n",
       "9997         [Adult, Older Adult]  Interventional  \n",
       "9998         [Adult, Older Adult]  Interventional  \n",
       "9999         [Adult, Older Adult]  Interventional  \n",
       "\n",
       "[10000 rows x 30 columns]"
      ]
     },
     "execution_count": 35,
     "metadata": {},
     "output_type": "execute_result"
    }
   ],
   "source": [
    "df_from_json"
   ]
  },
  {
   "cell_type": "code",
   "execution_count": 36,
   "metadata": {},
   "outputs": [],
   "source": [
    "def explodeTable(df_name, column_name):\n",
    "    tb = df_name[['NCTId', column_name]].copy()\n",
    "    explode_tb = tb.explode(column_name)\n",
    "    explode_tb = explode_tb.replace(0, \"-\")\n",
    "    explode_tb = explode_tb.sort_values(by=[column_name], ascending=False)\n",
    "    fr = len(explode_tb) - explode_tb[column_name].str.contains('-', na=False).sum()\n",
    "    print('feature_row', fr)\n",
    "    feature_tb = explode_tb.head(fr)\n",
    "    #.rename(columns={column_name:'features'})\n",
    "\n",
    "    return feature_tb"
   ]
  },
  {
   "cell_type": "code",
   "execution_count": 40,
   "metadata": {},
   "outputs": [
    {
     "data": {
      "text/plain": [
       "array(['Device:', 'Other:', 'Behavioral:', nan, 'Procedure:', 'Drug:',\n",
       "       'Genetic:', 'Biological:', 'Dietary', 'Diagnostic', 'Radiation:',\n",
       "       'Combination'], dtype=object)"
      ]
     },
     "execution_count": 40,
     "metadata": {},
     "output_type": "execute_result"
    }
   ],
   "source": [
    "tb = df_from_json[['NCTId', 'ArmGroupInterventionName']].copy()\n",
    "explode_tb = tb.explode('ArmGroupInterventionName')\n",
    "tb['feature'] = tb['ArmGroupInterventionName'].str.split(' ').str[0]\n",
    "tb = tb.drop(['ArmGroupInterventionName'], axis=1)\n",
    "tb = tb.rename(columns={'feature':'ArmGroupInterventionName'})\n",
    "lb = tb['ArmGroupInterventionName'].unique()\n",
    "lb"
   ]
  },
  {
   "cell_type": "code",
   "execution_count": 5,
   "metadata": {},
   "outputs": [
    {
     "name": "stdout",
     "output_type": "stream",
     "text": [
      "feature_row 17433\n"
     ]
    },
    {
     "data": {
      "text/plain": [
       "array(['Radiation:', 'Procedure:', 'Other:', 'Genetic:', 'Drug:',\n",
       "       'Dietary', 'Diagnostic', 'Device:', 'Combination', 'Biological:',\n",
       "       'Behavioral:'], dtype=object)"
      ]
     },
     "execution_count": 5,
     "metadata": {},
     "output_type": "execute_result"
    }
   ],
   "source": [
    "tb1= explodeTable(df_from_json, 'ArmGroupInterventionName')\n",
    "tb1['feature'] = tb1['ArmGroupInterventionName'].str.split(' ').str[0]\n",
    "tb1 = tb1.drop(['ArmGroupInterventionName'], axis=1)\n",
    "tb1 = tb1.rename(columns={'feature':'ArmGroupInterventionName'})\n",
    "l1 = tb1['ArmGroupInterventionName'].unique()\n",
    "l1"
   ]
  },
  {
   "cell_type": "code",
   "execution_count": 6,
   "metadata": {},
   "outputs": [
    {
     "name": "stdout",
     "output_type": "stream",
     "text": [
      "feature_row 15147\n"
     ]
    },
    {
     "data": {
      "text/plain": [
       "array(['Sham Comparator', 'Placebo Comparator', 'Other',\n",
       "       'No Intervention', 'Experimental', 'Active Comparator'],\n",
       "      dtype=object)"
      ]
     },
     "execution_count": 6,
     "metadata": {},
     "output_type": "execute_result"
    }
   ],
   "source": [
    "tb2= explodeTable(df_from_json, 'ArmGroupType')\n",
    "l2 = tb2['ArmGroupType'].unique()\n",
    "l2"
   ]
  },
  {
   "cell_type": "code",
   "execution_count": 7,
   "metadata": {},
   "outputs": [
    {
     "name": "stdout",
     "output_type": "stream",
     "text": [
      "feature_row 2484\n"
     ]
    },
    {
     "data": {
      "text/plain": [
       "array(['Standard Deviation', 'Inter-Quartile Range', 'Full Range'],\n",
       "      dtype=object)"
      ]
     },
     "execution_count": 7,
     "metadata": {},
     "output_type": "execute_result"
    }
   ],
   "source": [
    "tb3= explodeTable(df_from_json, 'BaselineMeasureDispersionType')\n",
    "l3 = tb3['BaselineMeasureDispersionType'].unique()\n",
    "l3"
   ]
  },
  {
   "cell_type": "code",
   "execution_count": 8,
   "metadata": {},
   "outputs": [
    {
     "name": "stdout",
     "output_type": "stream",
     "text": [
      "feature_row 8104\n"
     ]
    },
    {
     "data": {
      "text/plain": [
       "array(['Number', 'Median', 'Mean', 'Least Squares Mean', 'Geometric Mean',\n",
       "       'Count of Units', 'Count of Participants'], dtype=object)"
      ]
     },
     "execution_count": 8,
     "metadata": {},
     "output_type": "execute_result"
    }
   ],
   "source": [
    "tb4= explodeTable(df_from_json, 'BaselineMeasureParamType')\n",
    "l4 = tb4['BaselineMeasureParamType'].unique()\n",
    "l4"
   ]
  },
  {
   "cell_type": "code",
   "execution_count": 9,
   "metadata": {},
   "outputs": [
    {
     "name": "stdout",
     "output_type": "stream",
     "text": [
      "feature_row 8665\n"
     ]
    },
    {
     "data": {
      "text/plain": [
       "array(['UNKNOWN', 'OTHER_GOV', 'OTHER', 'NIH', 'NETWORK', 'INDUSTRY',\n",
       "       'FED', 'AMBIG'], dtype=object)"
      ]
     },
     "execution_count": 9,
     "metadata": {},
     "output_type": "execute_result"
    }
   ],
   "source": [
    "tb5= explodeTable(df_from_json, 'CollaboratorClass')\n",
    "l5 = tb5['CollaboratorClass'].unique()\n",
    "l5"
   ]
  },
  {
   "cell_type": "code",
   "execution_count": 10,
   "metadata": {},
   "outputs": [],
   "source": [
    "#some problem please look again\n",
    "tb6= explodeTable(df_from_json, 'ConditionAncestorId')\n",
    "l6 = tb6['ConditionAncestorId'].unique()\n",
    "l6"
   ]
  },
  {
   "cell_type": "code",
   "execution_count": 11,
   "metadata": {},
   "outputs": [
    {
     "name": "stdout",
     "output_type": "stream",
     "text": [
      "feature_row 30386\n"
     ]
    },
    {
     "data": {
      "text/plain": [
       "array(['Rare', 'BXS', 'BXM', 'BC26', 'BC25', 'BC24', 'BC23', 'BC21',\n",
       "       'BC20', 'BC19', 'BC18', 'BC17', 'BC16', 'BC15', 'BC14', 'BC11',\n",
       "       'BC10', 'BC09', 'BC08', 'BC07', 'BC06', 'BC05', 'BC04', 'BC03',\n",
       "       'BC02', 'BC01', 'All'], dtype=object)"
      ]
     },
     "execution_count": 11,
     "metadata": {},
     "output_type": "execute_result"
    }
   ],
   "source": [
    "tb7= explodeTable(df_from_json, 'ConditionBrowseBranchAbbrev')\n",
    "l7 = tb7['ConditionBrowseBranchAbbrev'].unique()\n",
    "l7"
   ]
  },
  {
   "cell_type": "code",
   "execution_count": 12,
   "metadata": {},
   "outputs": [
    {
     "name": "stdout",
     "output_type": "stream",
     "text": [
      "feature_row 62916\n"
     ]
    },
    {
     "data": {
      "text/plain": [
       "array(['T995', 'T950', 'T949', ..., 'M10111', 'M10093', 'M10023'],\n",
       "      dtype=object)"
      ]
     },
     "execution_count": 12,
     "metadata": {},
     "output_type": "execute_result"
    }
   ],
   "source": [
    "tb8= explodeTable(df_from_json, 'ConditionBrowseLeafId')\n",
    "l8 = tb8['ConditionBrowseLeafId'].unique()\n",
    "l8"
   ]
  },
  {
   "cell_type": "code",
   "execution_count": 13,
   "metadata": {},
   "outputs": [
    {
     "name": "stdout",
     "output_type": "stream",
     "text": [
      "feature_row 15796\n"
     ]
    },
    {
     "data": {
      "text/plain": [
       "array(['D000078064', 'D000077342', 'D000077277', ..., 'D000000022',\n",
       "       'D000000013', 'D000000006'], dtype=object)"
      ]
     },
     "execution_count": 13,
     "metadata": {},
     "output_type": "execute_result"
    }
   ],
   "source": [
    "tb9= explodeTable(df_from_json, 'ConditionMeshId')\n",
    "l9 = tb9['ConditionMeshId'].unique()\n",
    "l9"
   ]
  },
  {
   "cell_type": "code",
   "execution_count": 14,
   "metadata": {},
   "outputs": [
    {
     "name": "stdout",
     "output_type": "stream",
     "text": [
      "feature_row 6485\n"
     ]
    },
    {
     "data": {
      "text/plain": [
       "array(['Randomized', 'Non-Randomized', 'N/A'], dtype=object)"
      ]
     },
     "execution_count": 14,
     "metadata": {},
     "output_type": "execute_result"
    }
   ],
   "source": [
    "tb10= explodeTable(df_from_json, 'DesignAllocation')\n",
    "l10 = tb10['DesignAllocation'].unique()\n",
    "l10"
   ]
  },
  {
   "cell_type": "code",
   "execution_count": 15,
   "metadata": {},
   "outputs": [
    {
     "name": "stdout",
     "output_type": "stream",
     "text": [
      "feature_row 7283\n"
     ]
    },
    {
     "data": {
      "text/plain": [
       "array(['Triple', 'Single', 'Quadruple', 'None (Open Label)', 'Double'],\n",
       "      dtype=object)"
      ]
     },
     "execution_count": 15,
     "metadata": {},
     "output_type": "execute_result"
    }
   ],
   "source": [
    "tb11= explodeTable(df_from_json, 'DesignMasking')\n",
    "l11 = tb11['DesignMasking'].unique()\n",
    "l11"
   ]
  },
  {
   "cell_type": "code",
   "execution_count": 16,
   "metadata": {},
   "outputs": [
    {
     "name": "stdout",
     "output_type": "stream",
     "text": [
      "feature_row 7199\n"
     ]
    },
    {
     "data": {
      "text/plain": [
       "array(['Treatment', 'Supportive Care', 'Screening', 'Prevention', 'Other',\n",
       "       'Health Services Research', 'Educational/Counseling/Training',\n",
       "       'Diagnostic', 'Device Feasibility', 'Basic Science'], dtype=object)"
      ]
     },
     "execution_count": 16,
     "metadata": {},
     "output_type": "execute_result"
    }
   ],
   "source": [
    "tb12= explodeTable(df_from_json, 'DesignPrimaryPurpose')\n",
    "l12 = tb12['DesignPrimaryPurpose'].unique()\n",
    "l12"
   ]
  },
  {
   "cell_type": "code",
   "execution_count": 17,
   "metadata": {},
   "outputs": [
    {
     "name": "stdout",
     "output_type": "stream",
     "text": [
      "feature_row 1462\n"
     ]
    },
    {
     "data": {
      "text/plain": [
       "array(['Retrospective', 'Prospective', 'Other'], dtype=object)"
      ]
     },
     "execution_count": 17,
     "metadata": {},
     "output_type": "execute_result"
    }
   ],
   "source": [
    "tb13= explodeTable(df_from_json, 'DesignTimePerspective')\n",
    "l13 = tb13['DesignTimePerspective'].unique()\n",
    "l13"
   ]
  },
  {
   "cell_type": "code",
   "execution_count": 18,
   "metadata": {},
   "outputs": [
    {
     "name": "stdout",
     "output_type": "stream",
     "text": [
      "feature_row 9021\n"
     ]
    },
    {
     "data": {
      "text/plain": [
       "array(['9999', '9942', '994', ..., '10', '1', '0'], dtype=object)"
      ]
     },
     "execution_count": 18,
     "metadata": {},
     "output_type": "execute_result"
    }
   ],
   "source": [
    "tb14= explodeTable(df_from_json, 'EnrollmentCount')\n",
    "l14 = tb14['EnrollmentCount'].unique()\n",
    "l14"
   ]
  },
  {
   "cell_type": "code",
   "execution_count": 19,
   "metadata": {},
   "outputs": [
    {
     "name": "stdout",
     "output_type": "stream",
     "text": [
      "feature_row 8994\n"
     ]
    },
    {
     "data": {
      "text/plain": [
       "array(['No', 'Accepts Healthy Volunteers'], dtype=object)"
      ]
     },
     "execution_count": 19,
     "metadata": {},
     "output_type": "execute_result"
    }
   ],
   "source": [
    "tb15= explodeTable(df_from_json, 'HealthyVolunteers')\n",
    "l15 = tb15['HealthyVolunteers'].unique()\n",
    "l15"
   ]
  },
  {
   "cell_type": "code",
   "execution_count": 20,
   "metadata": {},
   "outputs": [
    {
     "name": "stdout",
     "output_type": "stream",
     "text": [
      "feature_row 21879\n"
     ]
    },
    {
     "data": {
      "text/plain": [
       "array(['D000078622', 'D000077264', 'D000077221', 'D000077203',\n",
       "       'D000075242', 'D000074322', 'D000074268', 'D000072664',\n",
       "       'D000068796', 'D000068776', 'D000068760', 'D000067856',\n",
       "       'D000065701', 'D000065698', 'D000065697', 'D000065696',\n",
       "       'D000065695', 'D000065694', 'D000065693', 'D000065692',\n",
       "       'D000065690', 'D000065689', 'D000065688', 'D000065687',\n",
       "       'D000065686', 'D000065609', 'D000065607', 'D000065427',\n",
       "       'D000065171', 'D000065147', 'D000065130', 'D000065128',\n",
       "       'D000065127', 'D000065108', 'D000065105', 'D000065104',\n",
       "       'D000065101', 'D000065100', 'D000065098', 'D000065096',\n",
       "       'D000065095', 'D000065093', 'D000065092', 'D000065088',\n",
       "       'D000065087', 'D000065086', 'D000064804', 'D000064729',\n",
       "       'D000064690', 'D000064449', 'D000064426', 'D000063387',\n",
       "       'D000063386', 'D000063385', 'D000062865', 'D000062686',\n",
       "       'D000062646', 'D000061567', 'D000059005', 'D000059004',\n",
       "       'D000059003', 'D000058987', 'D000058986', 'D000058921',\n",
       "       'D000058919', 'D000058915', 'D000058914', 'D000058913',\n",
       "       'D000058908', 'D000058906', 'D000058905', 'D000058891',\n",
       "       'D000058888', 'D000058831', 'D000058830', 'D000058825',\n",
       "       'D000058786', 'D000058785', 'D000058671', 'D000058669',\n",
       "       'D000058668', 'D000058666', 'D000058665', 'D000058647',\n",
       "       'D000058646', 'D000058633', 'D000057966', 'D000057947',\n",
       "       'D000057911', 'D000057847', 'D000056572', 'D000055675',\n",
       "       'D000054873', 'D000054872', 'D000054795', 'D000054368',\n",
       "       'D000054328', 'D000052246', 'D000051056', 'D000050299',\n",
       "       'D000050258', 'D000050257', 'D000050256', 'D000050071',\n",
       "       'D000050034', 'D000049994', 'D000049993', 'D000049990',\n",
       "       'D000048789', 'D000047428', 'D000047228', 'D000047072',\n",
       "       'D000045930', 'D000045505', 'D000045504', 'D000045462',\n",
       "       'D000045283', 'D000044966', 'D000043925', 'D000043924',\n",
       "       'D000039563', 'D000026941', 'D000026902', 'D000023581',\n",
       "       'D000020847', 'D000020845', 'D000020536', 'D000020533',\n",
       "       'D000020024', 'D000020011', 'D000019999', 'D000019653',\n",
       "       'D000019440', 'D000019429', 'D000019428', 'D000019384',\n",
       "       'D000019380', 'D000019275', 'D000019161', 'D000019141',\n",
       "       'D000018977', 'D000018931', 'D000018927', 'D000018926',\n",
       "       'D000018906', 'D000018894', 'D000018765', 'D000018759',\n",
       "       'D000018757', 'D000018756', 'D000018755', 'D000018733',\n",
       "       'D000018727', 'D000018726', 'D000018722', 'D000018721',\n",
       "       'D000018712', 'D000018697', 'D000018696', 'D000018692',\n",
       "       'D000018691', 'D000018690', 'D000018689', 'D000018687',\n",
       "       'D000018686', 'D000018685', 'D000018684', 'D000018683',\n",
       "       'D000018682', 'D000018681', 'D000018680', 'D000018679',\n",
       "       'D000018678', 'D000018674', 'D000018663', 'D000018501',\n",
       "       'D000018494', 'D000018492', 'D000018491', 'D000018490',\n",
       "       'D000018377', 'D000018373', 'D000017442', 'D000017367',\n",
       "       'D000017366', 'D000017320', 'D000017319', 'D000016861',\n",
       "       'D000016859', 'D000016588', 'D000016587', 'D000016166',\n",
       "       'D000016085', 'D000015853', 'D000015842', 'D000015259',\n",
       "       'D000015149', 'D000014815', 'D000014803', 'D000014665',\n",
       "       'D000014663', 'D000014662', 'D000014361', 'D000014344',\n",
       "       'D000014179', 'D000014151', 'D000014150', 'D000014149',\n",
       "       'D000014131', 'D000013566', 'D000013565', 'D000013473',\n",
       "       'D000013089', 'D000012702', 'D000012597', 'D000012556',\n",
       "       'D000012102', 'D000012076', 'D000011837', 'D000011663',\n",
       "       'D000011619', 'D000011500', 'D000011480', 'D000011372',\n",
       "       'D000010975', 'D000010952', 'D000010937', 'D000010726',\n",
       "       'D000010277', 'D000010276', 'D000010120', 'D000009883',\n",
       "       'D000009467', 'D000009466', 'D000009465', 'D000009294',\n",
       "       'D000009292', 'D000009184', 'D000009125', 'D000008996',\n",
       "       'D000008916', 'D000008600', 'D000008186', 'D000008082',\n",
       "       'D000007917', 'D000007641', 'D000007502', 'D000007369',\n",
       "       'D000007166', 'D000007155', 'D000007004', 'D000006993',\n",
       "       'D000006730', 'D000006728', 'D000006727', 'D000006635',\n",
       "       'D000006634', 'D000006633', 'D000006490', 'D000006397',\n",
       "       'D000006213', 'D000006133', 'D000006131', 'D000006074',\n",
       "       'D000005938', 'D000005765', 'D000005731', 'D000005730',\n",
       "       'D000005493', 'D000005369', 'D000005343', 'D000005300',\n",
       "       'D000005299', 'D000005217', 'D000005100', 'D000004968',\n",
       "       'D000004967', 'D000004965', 'D000004791', 'D000004643',\n",
       "       'D000004234', 'D000004232', 'D000004202', 'D000003879',\n",
       "       'D000003473', 'D000003451', 'D000003283', 'D000003281',\n",
       "       'D000003280', 'D000003279', 'D000003278', 'D000003277',\n",
       "       'D000003276', 'D000003272', 'D000003271', 'D000003270',\n",
       "       'D000003049', 'D000003029', 'D000002800', 'D000002756',\n",
       "       'D000002614', 'D000002492', 'D000002400', 'D000002327',\n",
       "       'D000002316', 'D000002257', 'D000002121', 'D000002120',\n",
       "       'D000001993', 'D000001802', 'D000001337', 'D000001252',\n",
       "       'D000001067', 'D000000998', 'D000000996', 'D000000995',\n",
       "       'D000000994', 'D000000991', 'D000000988', 'D000000986',\n",
       "       'D000000982', 'D000000981', 'D000000980', 'D000000978',\n",
       "       'D000000977', 'D000000975', 'D000000972', 'D000000970',\n",
       "       'D000000969', 'D000000964', 'D000000963', 'D000000962',\n",
       "       'D000000960', 'D000000959', 'D000000935', 'D000000933',\n",
       "       'D000000932', 'D000000931', 'D000000930', 'D000000929',\n",
       "       'D000000928', 'D000000927', 'D000000925', 'D000000924',\n",
       "       'D000000923', 'D000000904', 'D000000903', 'D000000900',\n",
       "       'D000000897', 'D000000894', 'D000000893', 'D000000892',\n",
       "       'D000000891', 'D000000890', 'D000000889', 'D000000871',\n",
       "       'D000000863', 'D000000806', 'D000000779', 'D000000778',\n",
       "       'D000000777', 'D000000759', 'D000000728', 'D000000726',\n",
       "       'D000000701', 'D000000700', 'D000000697', 'D000000563',\n",
       "       'D000000477', 'D000000451', 'D000000427', 'D000000373',\n",
       "       'D000000322', 'D000000319', 'D000000318', 'D000000317',\n",
       "       'D000000316', 'D000000276', 'D000000021', 'D000000020',\n",
       "       'D000000019'], dtype=object)"
      ]
     },
     "execution_count": 20,
     "metadata": {},
     "output_type": "execute_result"
    }
   ],
   "source": [
    "tb16= explodeTable(df_from_json, 'InterventionAncestorId')\n",
    "l16 = tb16['InterventionAncestorId'].unique()\n",
    "l16"
   ]
  },
  {
   "cell_type": "code",
   "execution_count": 21,
   "metadata": {},
   "outputs": [
    {
     "name": "stdout",
     "output_type": "stream",
     "text": [
      "feature_row 14599\n"
     ]
    },
    {
     "data": {
      "text/plain": [
       "array(['Vi', 'VaDiAg', 'VaCoAg', 'Urol', 'Resp', 'Repr', 'Rena',\n",
       "       'PsychDr', 'PlAggInh', 'PhSol', 'Ot', 'NootAg', 'NiOxD', 'NeuroAg',\n",
       "       'NarcAntag', 'NaAg', 'MuRelCen', 'Micro', 'Mi', 'Lipd', 'Infl',\n",
       "       'Infe', 'Hypo', 'Hemat', 'HB', 'Gast', 'Fl', 'FiAg', 'Emet',\n",
       "       'Derm', 'Coag', 'ChanBlk', 'CaAg', 'CNSSti', 'CNSDep', 'BlSubst',\n",
       "       'BDCA', 'Antipy', 'AntiConv', 'Analg', 'AnTuAg', 'AnSickAg',\n",
       "       'AnObAg', 'AnEm', 'AnDyAg', 'AnCoag', 'AnArAg', 'AnAg', 'All',\n",
       "       'AlcDet', 'AdjAn', 'ARhu', 'ANeo', 'AAll', 'AA'], dtype=object)"
      ]
     },
     "execution_count": 21,
     "metadata": {},
     "output_type": "execute_result"
    }
   ],
   "source": [
    "tb17= explodeTable(df_from_json, 'InterventionBrowseBranchAbbrev')\n",
    "l17 = tb17['InterventionBrowseBranchAbbrev'].unique()\n",
    "l17"
   ]
  },
  {
   "cell_type": "code",
   "execution_count": 22,
   "metadata": {},
   "outputs": [
    {
     "name": "stdout",
     "output_type": "stream",
     "text": [
      "feature_row 26733\n"
     ]
    },
    {
     "data": {
      "text/plain": [
       "array(['T94', 'T9', 'T88', ..., 'M10030', 'M10029', 'M10019'],\n",
       "      dtype=object)"
      ]
     },
     "execution_count": 22,
     "metadata": {},
     "output_type": "execute_result"
    }
   ],
   "source": [
    "tb18= explodeTable(df_from_json, 'InterventionBrowseLeafId')\n",
    "l18 = tb18['InterventionBrowseLeafId'].unique()\n",
    "l18"
   ]
  },
  {
   "cell_type": "code",
   "execution_count": 23,
   "metadata": {},
   "outputs": [
    {
     "name": "stdout",
     "output_type": "stream",
     "text": [
      "feature_row 5598\n"
     ]
    },
    {
     "data": {
      "text/plain": [
       "array(['D000078862', 'D000078785', 'D000078784', ..., 'C000002854',\n",
       "       'C000001205', 'C000000489'], dtype=object)"
      ]
     },
     "execution_count": 23,
     "metadata": {},
     "output_type": "execute_result"
    }
   ],
   "source": [
    "tb19= explodeTable(df_from_json, 'InterventionMeshId')\n",
    "l19 = tb19['InterventionMeshId'].unique()\n",
    "l19"
   ]
  },
  {
   "cell_type": "code",
   "execution_count": 24,
   "metadata": {},
   "outputs": [
    {
     "name": "stdout",
     "output_type": "stream",
     "text": [
      "feature_row 15695\n"
     ]
    },
    {
     "data": {
      "text/plain": [
       "array(['Radiation', 'Procedure', 'Other', 'Genetic', 'Drug',\n",
       "       'Dietary Supplement', 'Diagnostic Test', 'Device',\n",
       "       'Combination Product', 'Biological', 'Behavioral'], dtype=object)"
      ]
     },
     "execution_count": 24,
     "metadata": {},
     "output_type": "execute_result"
    }
   ],
   "source": [
    "tb20= explodeTable(df_from_json, 'InterventionType')\n",
    "l20 = tb20['InterventionType'].unique()\n",
    "l20"
   ]
  },
  {
   "cell_type": "code",
   "execution_count": 25,
   "metadata": {},
   "outputs": [
    {
     "name": "stdout",
     "output_type": "stream",
     "text": [
      "feature_row 3968\n"
     ]
    },
    {
     "data": {
      "text/plain": [
       "array(['Yes', 'No'], dtype=object)"
      ]
     },
     "execution_count": 25,
     "metadata": {},
     "output_type": "execute_result"
    }
   ],
   "source": [
    "tb21= explodeTable(df_from_json, 'IsFDARegulatedDevice')\n",
    "l21 = tb21['IsFDARegulatedDevice'].unique()\n",
    "l21"
   ]
  },
  {
   "cell_type": "code",
   "execution_count": 26,
   "metadata": {},
   "outputs": [
    {
     "name": "stdout",
     "output_type": "stream",
     "text": [
      "feature_row 3980\n"
     ]
    },
    {
     "data": {
      "text/plain": [
       "array(['Yes', 'No'], dtype=object)"
      ]
     },
     "execution_count": 26,
     "metadata": {},
     "output_type": "execute_result"
    }
   ],
   "source": [
    "tb22= explodeTable(df_from_json, 'IsFDARegulatedDrug')\n",
    "l22 = tb22['IsFDARegulatedDrug'].unique()\n",
    "l22"
   ]
  },
  {
   "cell_type": "code",
   "execution_count": 27,
   "metadata": {},
   "outputs": [
    {
     "name": "stdout",
     "output_type": "stream",
     "text": [
      "feature_row 9157\n"
     ]
    },
    {
     "data": {
      "text/plain": [
       "array(['OTHER_GOV', 'OTHER', 'NIH', 'NETWORK', 'INDUSTRY', 'INDIV', 'FED'],\n",
       "      dtype=object)"
      ]
     },
     "execution_count": 27,
     "metadata": {},
     "output_type": "execute_result"
    }
   ],
   "source": [
    "tb23= explodeTable(df_from_json, 'LeadSponsorClass')\n",
    "l23 = tb23['LeadSponsorClass'].unique()\n",
    "l23"
   ]
  },
  {
   "cell_type": "code",
   "execution_count": 28,
   "metadata": {},
   "outputs": [
    {
     "name": "stdout",
     "output_type": "stream",
     "text": [
      "feature_row 1037\n"
     ]
    },
    {
     "data": {
      "text/plain": [
       "array(['Yes', 'No'], dtype=object)"
      ]
     },
     "execution_count": 28,
     "metadata": {},
     "output_type": "execute_result"
    }
   ],
   "source": [
    "tb25= explodeTable(df_from_json, 'PatientRegistry')\n",
    "l25 = tb25['PatientRegistry'].unique()\n",
    "l25"
   ]
  },
  {
   "cell_type": "code",
   "execution_count": 29,
   "metadata": {},
   "outputs": [],
   "source": [
    "#run into prolem need to check later\n",
    "tb27= explodeTable(df_from_json, 'SamplingMethod')\n",
    "l27 = tb27['SamplingMethod'].unique()\n",
    "l27"
   ]
  },
  {
   "cell_type": "code",
   "execution_count": 30,
   "metadata": {},
   "outputs": [
    {
     "name": "stdout",
     "output_type": "stream",
     "text": [
      "feature_row 17153\n"
     ]
    },
    {
     "data": {
      "text/plain": [
       "array(['Older Adult', 'Child', 'Adult'], dtype=object)"
      ]
     },
     "execution_count": 30,
     "metadata": {},
     "output_type": "execute_result"
    }
   ],
   "source": [
    "tb28= explodeTable(df_from_json, 'StdAge')\n",
    "l28 = tb28['StdAge'].unique()\n",
    "l28"
   ]
  },
  {
   "cell_type": "code",
   "execution_count": 31,
   "metadata": {},
   "outputs": [
    {
     "name": "stdout",
     "output_type": "stream",
     "text": [
      "feature_row 9157\n"
     ]
    },
    {
     "data": {
      "text/plain": [
       "array(['Observational', 'Interventional', 'Expanded Access'], dtype=object)"
      ]
     },
     "execution_count": 31,
     "metadata": {},
     "output_type": "execute_result"
    }
   ],
   "source": [
    "tb29= explodeTable(df_from_json, 'StudyType')\n",
    "l29 = tb29['StudyType'].unique()\n",
    "l29"
   ]
  },
  {
   "cell_type": "code",
   "execution_count": null,
   "metadata": {},
   "outputs": [],
   "source": []
  }
 ],
 "metadata": {
  "kernelspec": {
   "display_name": "Python 3",
   "language": "python",
   "name": "python3"
  },
  "language_info": {
   "codemirror_mode": {
    "name": "ipython",
    "version": 3
   },
   "file_extension": ".py",
   "mimetype": "text/x-python",
   "name": "python",
   "nbconvert_exporter": "python",
   "pygments_lexer": "ipython3",
   "version": "3.7.6"
  }
 },
 "nbformat": 4,
 "nbformat_minor": 4
}
