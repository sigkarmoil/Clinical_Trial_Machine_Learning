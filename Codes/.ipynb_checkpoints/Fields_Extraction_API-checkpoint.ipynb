{
 "cells": [
  {
   "cell_type": "code",
   "execution_count": 46,
   "metadata": {},
   "outputs": [],
   "source": [
    "import requests\n",
    "import pprint\n",
    "import json\n",
    "import time\n",
    "import pandas as pd"
   ]
  },
  {
   "cell_type": "code",
   "execution_count": 105,
   "metadata": {},
   "outputs": [
    {
     "data": {
      "text/html": [
       "<div>\n",
       "<style scoped>\n",
       "    .dataframe tbody tr th:only-of-type {\n",
       "        vertical-align: middle;\n",
       "    }\n",
       "\n",
       "    .dataframe tbody tr th {\n",
       "        vertical-align: top;\n",
       "    }\n",
       "\n",
       "    .dataframe thead th {\n",
       "        text-align: right;\n",
       "    }\n",
       "</style>\n",
       "<table border=\"1\" class=\"dataframe\">\n",
       "  <thead>\n",
       "    <tr style=\"text-align: right;\">\n",
       "      <th></th>\n",
       "      <th>0</th>\n",
       "    </tr>\n",
       "  </thead>\n",
       "  <tbody>\n",
       "    <tr>\n",
       "      <th>0</th>\n",
       "      <td>URL_Append</td>\n",
       "    </tr>\n",
       "    <tr>\n",
       "      <th>1</th>\n",
       "      <td>NCTID%2CAgreementOtherDetails%2CAgreementPISpo...</td>\n",
       "    </tr>\n",
       "    <tr>\n",
       "      <th>2</th>\n",
       "      <td>NCTID%2CBaselineDenomUnits%2CBaselineGroupDesc...</td>\n",
       "    </tr>\n",
       "    <tr>\n",
       "      <th>3</th>\n",
       "      <td>NCTID%2CBaselineMeasurementUpperLimit%2CBaseli...</td>\n",
       "    </tr>\n",
       "    <tr>\n",
       "      <th>4</th>\n",
       "      <td>NCTID%2CConditionAncestorTerm%2CConditionBrows...</td>\n",
       "    </tr>\n",
       "  </tbody>\n",
       "</table>\n",
       "</div>"
      ],
      "text/plain": [
       "                                                   0\n",
       "0                                         URL_Append\n",
       "1  NCTID%2CAgreementOtherDetails%2CAgreementPISpo...\n",
       "2  NCTID%2CBaselineDenomUnits%2CBaselineGroupDesc...\n",
       "3  NCTID%2CBaselineMeasurementUpperLimit%2CBaseli...\n",
       "4  NCTID%2CConditionAncestorTerm%2CConditionBrows..."
      ]
     },
     "execution_count": 105,
     "metadata": {},
     "output_type": "execute_result"
    }
   ],
   "source": [
    "#Importing field names\n",
    "path = '../Resources/all_fields_api.csv'\n",
    "api_field = pd.read_csv(path, header=None)\n",
    "\n",
    "api_field"
   ]
  },
  {
   "cell_type": "code",
   "execution_count": null,
   "metadata": {},
   "outputs": [],
   "source": [
    "# Looping through the rank\n",
    "min_rnk=1\n",
    "max_rnk=10\n",
    "\n",
    "#Looping through the fields. Total loops needed: 17\n",
    "\n",
    "field_n = 1\n",
    "field_call = api_field.iloc[field_n].values[0]\n",
    "field_call\n",
    "\n",
    "# API pull\n",
    "url_extract = f'https://clinicaltrials.gov/api/query/study_fields?expr=United+States&fields={field_call}&min_rnk={min_rnk}&max_rnk={max_rnk}&fmt=json'\n",
    "\n",
    "\n",
    "response = requests.get(url_extract)\n",
    "response_json = response.json()\n",
    "\n",
    "#     with open(f'usa{a}.json', 'w') as json_file:\n",
    "with open(f'field_usa.json', 'w') as json_file:\n",
    "    json.dump(response_json, json_file)\n",
    "\n",
    "\n",
    "    \n"
   ]
  },
  {
   "cell_type": "code",
   "execution_count": null,
   "metadata": {},
   "outputs": [],
   "source": [
    "#open json\n",
    "with open('field_usa.json') as jsonfile:\n",
    "    study_json = json.load(jsonfile)\n",
    "    \n",
    "#looping through the rank\n",
    "json_loop=0\n",
    "data = study_json['StudyFieldsResponse']['StudyFields'][json_loop]\n",
    "df_init = pd.DataFrame([data ])\n",
    "df_init_ex = df_init.explode('NCTId')\n",
    "df_init_ex"
   ]
  },
  {
   "cell_type": "code",
   "execution_count": null,
   "metadata": {},
   "outputs": [],
   "source": []
  },
  {
   "cell_type": "code",
   "execution_count": 48,
   "metadata": {},
   "outputs": [
    {
     "data": {
      "text/plain": [
       "'NCTID%2CBaselineDenomUnits%2CBaselineGroupDescription%2CBaselineGroupId%2CBaselineGroupTitle%2CBaselineMeasureCalculatePct%2CBaselineMeasureDenomCountGroupId%2CBaselineMeasureDenomCountValue%2CBaselineMeasureDenomUnits%2CBaselineMeasureDenomUnitsSelected%2CBaselineMeasureDescription%2CBaselineMeasureDispersionType%2CBaselineMeasureParamType%2CBaselineMeasurePopulationDescription%2CBaselineMeasureTitle%2CBaselineMeasureUnitOfMeasure%2CBaselineMeasurementComment%2CBaselineMeasurementGroupId%2CBaselineMeasurementLowerLimit%2CBaselineMeasurementSpread'"
      ]
     },
     "execution_count": 48,
     "metadata": {},
     "output_type": "execute_result"
    }
   ],
   "source": [
    "#Looping through the fields. Total loops needed: 17\n",
    "\n",
    "field_n = 1\n",
    "field_call = api_field.iloc[field_n].values[0]\n",
    "field_call"
   ]
  },
  {
   "cell_type": "code",
   "execution_count": 49,
   "metadata": {},
   "outputs": [
    {
     "data": {
      "text/plain": [
       "'10'"
      ]
     },
     "execution_count": 49,
     "metadata": {},
     "output_type": "execute_result"
    }
   ],
   "source": [
    "min_rnk=1\n",
    "max_rnk=10\n"
   ]
  },
  {
   "cell_type": "code",
   "execution_count": 50,
   "metadata": {},
   "outputs": [],
   "source": [
    "# API pull\n",
    "url_extract = f'https://clinicaltrials.gov/api/query/study_fields?expr=United+States&fields={field_call}&min_rnk={min_rnk}&max_rnk={max_rnk}&fmt=json'\n",
    "\n",
    "\n",
    "response = requests.get(url_extract)\n",
    "response_json = response.json()\n",
    "#     with open(f'usa{a}.json', 'w') as json_file:\n",
    "with open(f'field_usa.json', 'w') as json_file:\n",
    "    json.dump(response_json, json_file)"
   ]
  },
  {
   "cell_type": "code",
   "execution_count": 52,
   "metadata": {},
   "outputs": [],
   "source": [
    "#open json\n",
    "with open('field_usa.json') as jsonfile:\n",
    "    study_json = json.load(jsonfile)"
   ]
  },
  {
   "cell_type": "code",
   "execution_count": 101,
   "metadata": {},
   "outputs": [
    {
     "data": {
      "text/html": [
       "<div>\n",
       "<style scoped>\n",
       "    .dataframe tbody tr th:only-of-type {\n",
       "        vertical-align: middle;\n",
       "    }\n",
       "\n",
       "    .dataframe tbody tr th {\n",
       "        vertical-align: top;\n",
       "    }\n",
       "\n",
       "    .dataframe thead th {\n",
       "        text-align: right;\n",
       "    }\n",
       "</style>\n",
       "<table border=\"1\" class=\"dataframe\">\n",
       "  <thead>\n",
       "    <tr style=\"text-align: right;\">\n",
       "      <th></th>\n",
       "      <th>Rank</th>\n",
       "      <th>NCTId</th>\n",
       "      <th>BaselineDenomUnits</th>\n",
       "      <th>BaselineGroupDescription</th>\n",
       "      <th>BaselineGroupId</th>\n",
       "      <th>BaselineGroupTitle</th>\n",
       "      <th>BaselineMeasureCalculatePct</th>\n",
       "      <th>BaselineMeasureDenomCountGroupId</th>\n",
       "      <th>BaselineMeasureDenomCountValue</th>\n",
       "      <th>BaselineMeasureDenomUnits</th>\n",
       "      <th>...</th>\n",
       "      <th>BaselineMeasureDescription</th>\n",
       "      <th>BaselineMeasureDispersionType</th>\n",
       "      <th>BaselineMeasureParamType</th>\n",
       "      <th>BaselineMeasurePopulationDescription</th>\n",
       "      <th>BaselineMeasureTitle</th>\n",
       "      <th>BaselineMeasureUnitOfMeasure</th>\n",
       "      <th>BaselineMeasurementComment</th>\n",
       "      <th>BaselineMeasurementGroupId</th>\n",
       "      <th>BaselineMeasurementLowerLimit</th>\n",
       "      <th>BaselineMeasurementSpread</th>\n",
       "    </tr>\n",
       "  </thead>\n",
       "  <tbody>\n",
       "    <tr>\n",
       "      <th>0</th>\n",
       "      <td>1</td>\n",
       "      <td>NCT04371159</td>\n",
       "      <td>[]</td>\n",
       "      <td>[]</td>\n",
       "      <td>[]</td>\n",
       "      <td>[]</td>\n",
       "      <td>[]</td>\n",
       "      <td>[]</td>\n",
       "      <td>[]</td>\n",
       "      <td>[]</td>\n",
       "      <td>...</td>\n",
       "      <td>[]</td>\n",
       "      <td>[]</td>\n",
       "      <td>[]</td>\n",
       "      <td>[]</td>\n",
       "      <td>[]</td>\n",
       "      <td>[]</td>\n",
       "      <td>[]</td>\n",
       "      <td>[]</td>\n",
       "      <td>[]</td>\n",
       "      <td>[]</td>\n",
       "    </tr>\n",
       "  </tbody>\n",
       "</table>\n",
       "<p>1 rows × 21 columns</p>\n",
       "</div>"
      ],
      "text/plain": [
       "   Rank        NCTId BaselineDenomUnits BaselineGroupDescription  \\\n",
       "0     1  NCT04371159                 []                       []   \n",
       "\n",
       "  BaselineGroupId BaselineGroupTitle BaselineMeasureCalculatePct  \\\n",
       "0              []                 []                          []   \n",
       "\n",
       "  BaselineMeasureDenomCountGroupId BaselineMeasureDenomCountValue  \\\n",
       "0                               []                             []   \n",
       "\n",
       "  BaselineMeasureDenomUnits  ... BaselineMeasureDescription  \\\n",
       "0                        []  ...                         []   \n",
       "\n",
       "  BaselineMeasureDispersionType BaselineMeasureParamType  \\\n",
       "0                            []                       []   \n",
       "\n",
       "  BaselineMeasurePopulationDescription BaselineMeasureTitle  \\\n",
       "0                                   []                   []   \n",
       "\n",
       "  BaselineMeasureUnitOfMeasure BaselineMeasurementComment  \\\n",
       "0                           []                         []   \n",
       "\n",
       "  BaselineMeasurementGroupId BaselineMeasurementLowerLimit  \\\n",
       "0                         []                            []   \n",
       "\n",
       "  BaselineMeasurementSpread  \n",
       "0                        []  \n",
       "\n",
       "[1 rows x 21 columns]"
      ]
     },
     "execution_count": 101,
     "metadata": {},
     "output_type": "execute_result"
    }
   ],
   "source": [
    "#looping through the rank\n",
    "json_loop=0\n",
    "data = study_json['StudyFieldsResponse']['StudyFields'][json_loop]\n",
    "df_init = pd.DataFrame([data ])\n",
    "df_init_ex = df_init.explode('NCTId')\n",
    "df_init_ex"
   ]
  },
  {
   "cell_type": "code",
   "execution_count": null,
   "metadata": {},
   "outputs": [],
   "source": []
  }
 ],
 "metadata": {
  "kernelspec": {
   "display_name": "Python 3",
   "language": "python",
   "name": "python3"
  },
  "language_info": {
   "codemirror_mode": {
    "name": "ipython",
    "version": 3
   },
   "file_extension": ".py",
   "mimetype": "text/x-python",
   "name": "python",
   "nbconvert_exporter": "python",
   "pygments_lexer": "ipython3",
   "version": "3.7.4"
  }
 },
 "nbformat": 4,
 "nbformat_minor": 2
}
