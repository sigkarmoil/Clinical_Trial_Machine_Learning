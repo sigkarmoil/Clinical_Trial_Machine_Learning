{
 "cells": [
  {
   "cell_type": "code",
   "execution_count": 1,
   "metadata": {},
   "outputs": [],
   "source": [
    "# Dependencies\n",
    "import json\n",
    "import os\n",
    "import pandas as pd"
   ]
  },
  {
   "cell_type": "code",
   "execution_count": 2,
   "metadata": {},
   "outputs": [],
   "source": [
    "with open('json2/field_usa0_part_3.json') as jsonfile:\n",
    "    study_json = json.load(jsonfile)"
   ]
  },
  {
   "cell_type": "code",
   "execution_count": 3,
   "metadata": {},
   "outputs": [],
   "source": [
    "# Load JSON\n",
    "\n",
    "part3=[ \"NCTId\" , \"BaselineMeasurementUpperLimit\" , \"BaselineMeasurementValue\" , \"BaselinePopulationDescription\" , \"BaselineTypeUnitsAnalyzed\" , \"BioSpecDescription\" , \"BioSpecRetention\" , \"BriefSummary\" , \"BriefTitle\" , \"CentralContactEMail\" , \"CentralContactName\" , \"CentralContactPhone\" , \"CentralContactPhoneExt\" , \"CentralContactRole\" , \"CollaboratorClass\" , \"CollaboratorName\" , \"CompletionDate\" , \"CompletionDateType\" , \"Condition\" , \"ConditionAncestorId\" ]\n"
   ]
  },
  {
   "cell_type": "code",
   "execution_count": 4,
   "metadata": {},
   "outputs": [],
   "source": [
    "#Joining USA0 and USA1\n",
    "\n",
    "#part3\n",
    "\n",
    "ConditionAncestorId = []"
   ]
  },
  {
   "cell_type": "code",
   "execution_count": 5,
   "metadata": {},
   "outputs": [
    {
     "name": "stdout",
     "output_type": "stream",
     "text": [
      "1000\n"
     ]
    }
   ],
   "source": [
    "#Extract All of Part1\n",
    "\n",
    "rank_number = len(study_json[\"StudyFieldsResponse\"][\"StudyFields\"])\n",
    "fields_number =len( study_json[\"StudyFieldsResponse\"][\"StudyFields\"][0])\n",
    "print (rank_number)"
   ]
  },
  {
   "cell_type": "code",
   "execution_count": 7,
   "metadata": {},
   "outputs": [
    {
     "name": "stdout",
     "output_type": "stream",
     "text": [
      "1000\n"
     ]
    }
   ],
   "source": [
    "#Extract All of Part1\n",
    "\n",
    "rank_number = len(study_json[\"StudyFieldsResponse\"][\"StudyFields\"])\n",
    "fields_number =len( study_json[\"StudyFieldsResponse\"][\"StudyFields\"][0])\n",
    "print (rank_number)\n",
    "\n",
    "#Extracting from multiple files\n",
    "\n",
    "for trial_batch in range (0,2):\n",
    "\n",
    "    trial_batch = 0\n",
    "    trial_path=\"json2/field_usa\"+str(trial_batch)+\"_part_3.json\"\n",
    "\n",
    "    with open(trial_path) as jsonfile:\n",
    "        study_json = json.load(jsonfile)\n",
    "\n",
    "    rank_number = len(study_json[\"StudyFieldsResponse\"][\"StudyFields\"])\n",
    "    fields_number =len( study_json[\"StudyFieldsResponse\"][\"StudyFields\"][0])\n",
    "\n",
    "    for x in range (0,rank_number):\n",
    "\n",
    "    #     if AgreementOtherDetails.append(study_json['StudyFieldsResponse']['StudyFields'][x]['AgreementOtherDetails']='':\n",
    "    #         AgreementOtherDetails.append(0)\n",
    "    #     else:\n",
    "    #         AgreementOtherDetails.append(study_json['StudyFieldsResponse']['StudyFields'][x]['AgreementOtherDetails'][0]\n",
    "\n",
    "        study_content= study_json['StudyFieldsResponse']['StudyFields'][x]\n",
    "\n",
    "########################\n",
    "        if len(study_content['ConditionAncestorId']) ==0 :\n",
    "            ConditionAncestorId.append(0)\n",
    "        if len(study_content['ConditionAncestorId']) ==1 :\n",
    "            ConditionAncestorId.append(study_content['ConditionAncestorId'][0]) \n",
    "        elif len(study_content['ConditionAncestorId']) > 1:\n",
    "            ConditionAncestorId.append(study_content['ConditionAncestorId'])  "
   ]
  },
  {
   "cell_type": "code",
   "execution_count": 8,
   "metadata": {},
   "outputs": [
    {
     "data": {
      "text/plain": [
       "2000"
      ]
     },
     "execution_count": 8,
     "metadata": {},
     "output_type": "execute_result"
    }
   ],
   "source": [
    "len(ConditionAncestorId)"
   ]
  },
  {
   "cell_type": "code",
   "execution_count": 9,
   "metadata": {},
   "outputs": [],
   "source": [
    "#Create Dataframe from list\n",
    "dict1 = {  \n",
    "part3[19]:ConditionAncestorId}\n",
    "         \n",
    "df1 = pd.DataFrame(dict1)\n",
    "\n",
    "#df1.to_csv('fields_all_part1.csv')"
   ]
  },
  {
   "cell_type": "code",
   "execution_count": 14,
   "metadata": {},
   "outputs": [
    {
     "data": {
      "text/html": [
       "<div>\n",
       "<style scoped>\n",
       "    .dataframe tbody tr th:only-of-type {\n",
       "        vertical-align: middle;\n",
       "    }\n",
       "\n",
       "    .dataframe tbody tr th {\n",
       "        vertical-align: top;\n",
       "    }\n",
       "\n",
       "    .dataframe thead th {\n",
       "        text-align: right;\n",
       "    }\n",
       "</style>\n",
       "<table border=\"1\" class=\"dataframe\">\n",
       "  <thead>\n",
       "    <tr style=\"text-align: right;\">\n",
       "      <th></th>\n",
       "      <th>ConditionAncestorId</th>\n",
       "    </tr>\n",
       "  </thead>\n",
       "  <tbody>\n",
       "    <tr>\n",
       "      <th>0</th>\n",
       "      <td>[D000007239, D000014570]</td>\n",
       "    </tr>\n",
       "    <tr>\n",
       "      <th>1</th>\n",
       "      <td>0</td>\n",
       "    </tr>\n",
       "    <tr>\n",
       "      <th>2</th>\n",
       "      <td>0</td>\n",
       "    </tr>\n",
       "    <tr>\n",
       "      <th>3</th>\n",
       "      <td>[D000009976, D000012327, D000014777, D00001214...</td>\n",
       "    </tr>\n",
       "    <tr>\n",
       "      <th>4</th>\n",
       "      <td>[D000011528, D000010272]</td>\n",
       "    </tr>\n",
       "    <tr>\n",
       "      <th>...</th>\n",
       "      <td>...</td>\n",
       "    </tr>\n",
       "    <tr>\n",
       "      <th>1995</th>\n",
       "      <td>0</td>\n",
       "    </tr>\n",
       "    <tr>\n",
       "      <th>1996</th>\n",
       "      <td>0</td>\n",
       "    </tr>\n",
       "    <tr>\n",
       "      <th>1997</th>\n",
       "      <td>0</td>\n",
       "    </tr>\n",
       "    <tr>\n",
       "      <th>1998</th>\n",
       "      <td>0</td>\n",
       "    </tr>\n",
       "    <tr>\n",
       "      <th>1999</th>\n",
       "      <td>0</td>\n",
       "    </tr>\n",
       "  </tbody>\n",
       "</table>\n",
       "<p>2000 rows × 1 columns</p>\n",
       "</div>"
      ],
      "text/plain": [
       "                                    ConditionAncestorId\n",
       "0                              [D000007239, D000014570]\n",
       "1                                                     0\n",
       "2                                                     0\n",
       "3     [D000009976, D000012327, D000014777, D00001214...\n",
       "4                              [D000011528, D000010272]\n",
       "...                                                 ...\n",
       "1995                                                  0\n",
       "1996                                                  0\n",
       "1997                                                  0\n",
       "1998                                                  0\n",
       "1999                                                  0\n",
       "\n",
       "[2000 rows x 1 columns]"
      ]
     },
     "execution_count": 14,
     "metadata": {},
     "output_type": "execute_result"
    }
   ],
   "source": [
    "df1.to_csv('Part3.csv', index=False)\n",
    "df1"
   ]
  },
  {
   "cell_type": "code",
   "execution_count": null,
   "metadata": {},
   "outputs": [],
   "source": [
    "df = pd.concat([NCTId_df, df1], axis=1, sort=False)\n",
    "df.drop(['BaselineClassDenomCountGroupId','BaselineDenomCountGroupId'], axis = 1, inplace=True)\n",
    "df               "
   ]
  },
  {
   "cell_type": "code",
   "execution_count": null,
   "metadata": {},
   "outputs": [],
   "source": []
  },
  {
   "cell_type": "code",
   "execution_count": null,
   "metadata": {},
   "outputs": [],
   "source": [
    "tb1 = df1[['NCTId','BaselineClassDenomCountGroupId']].copy()\n",
    "explode_tb1 = tb1.explode('BaselineClassDenomCountGroupId')\n",
    "explode_tb1 = explode_tb1.replace(0, \"-\")\n",
    "explode_tb1 = explode_tb1.sort_values(by=['BaselineClassDenomCountGroupId'], ascending=False)\n",
    "explode_tb1"
   ]
  },
  {
   "cell_type": "code",
   "execution_count": null,
   "metadata": {},
   "outputs": [],
   "source": [
    "tr1 = len(explode_tb1)\n",
    "er1 = explode_tb1['BaselineClassDenomCountGroupId'].str.contains('-', na=False).sum()\n",
    "fr1 = tr1 - er1\n",
    "print('feature_row', fr1, 'total_row', 'empty_row')"
   ]
  },
  {
   "cell_type": "code",
   "execution_count": null,
   "metadata": {},
   "outputs": [],
   "source": [
    "feature_tb1 = explode_tb1.head(fr1).rename(columns={'BaselineClassDenomCountGroupId':'features'})\n",
    "feature_tb1.tail(5)"
   ]
  },
  {
   "cell_type": "code",
   "execution_count": null,
   "metadata": {},
   "outputs": [],
   "source": [
    "tb2 = df1[['NCTId','BaselineDenomCountGroupId']].copy()\n",
    "explode_tb2 = tb2.explode('BaselineDenomCountGroupId')\n",
    "explode_tb2 = explode_tb2.replace(0, \"-\")\n",
    "explode_tb2 = explode_tb2.sort_values(by=['BaselineDenomCountGroupId'], ascending=False)\n",
    "explode_tb2"
   ]
  },
  {
   "cell_type": "code",
   "execution_count": null,
   "metadata": {},
   "outputs": [],
   "source": [
    "tr2 = len(explode_tb2)\n",
    "er2 = explode_tb2['BaselineDenomCountGroupId'].str.contains('-', na=False).sum()\n",
    "fr2 = tr2 - er2\n",
    "print('feature_row', fr2, 'total_row', 'empty_row')"
   ]
  },
  {
   "cell_type": "code",
   "execution_count": null,
   "metadata": {},
   "outputs": [],
   "source": [
    "feature_tb2 = explode_tb2.head(fr2).rename(columns={'BaselineDenomCountGroupId':'features'})\n",
    "feature_tb2.tail(5)"
   ]
  },
  {
   "cell_type": "code",
   "execution_count": null,
   "metadata": {},
   "outputs": [],
   "source": [
    "feature_table = pd.DataFrame()\n",
    "feature_table = feature_table.append(feature_tb1, ignore_index = True)\n",
    "feature_table = feature_table.append(feature_tb2, ignore_index = True)\n",
    "feature_table"
   ]
  },
  {
   "cell_type": "code",
   "execution_count": null,
   "metadata": {},
   "outputs": [],
   "source": [
    "Cross_Tb = pd.crosstab(index=feature_table['NCTId'], columns = feature_table['features'])\n",
    "Cross_Tb"
   ]
  },
  {
   "cell_type": "code",
   "execution_count": null,
   "metadata": {},
   "outputs": [],
   "source": []
  }
 ],
 "metadata": {
  "kernelspec": {
   "display_name": "Python 3",
   "language": "python",
   "name": "python3"
  },
  "language_info": {
   "codemirror_mode": {
    "name": "ipython",
    "version": 3
   },
   "file_extension": ".py",
   "mimetype": "text/x-python",
   "name": "python",
   "nbconvert_exporter": "python",
   "pygments_lexer": "ipython3",
   "version": "3.7.6"
  }
 },
 "nbformat": 4,
 "nbformat_minor": 4
}
