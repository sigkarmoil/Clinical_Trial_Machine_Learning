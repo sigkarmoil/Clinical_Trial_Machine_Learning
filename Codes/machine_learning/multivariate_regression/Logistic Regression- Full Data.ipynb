{
 "cells": [
  {
   "cell_type": "code",
   "execution_count": 1,
   "metadata": {},
   "outputs": [],
   "source": [
    "%matplotlib inline\n",
    "import matplotlib.pyplot as plt\n",
    "import numpy as np\n",
    "import pandas as pd\n",
    "import pickle"
   ]
  },
  {
   "cell_type": "code",
   "execution_count": 2,
   "metadata": {},
   "outputs": [],
   "source": [
    "# Loading the data (in this case it is CSV)\n",
    "\n",
    "df1 =pd.read_csv( \"../../CSVTables/Cross_Tb1.csv\")\n",
    "df2 =pd.read_csv(\"../../CSVTables/Cross_Tb2.csv\")\n",
    "df3 = pd.read_csv(\"../../CSVTables/Cross_Tb3.csv\")\n",
    "df4 = pd.read_csv(\"../../CSVTables/Cross_Tb4.csv\")\n",
    "df5 = pd.read_csv(\"../../CSVTables/Cross_Tb5.csv\")\n",
    "# df6 = pd.read_csv(\"../../CSVTables/Cross_Tb6.csv\")\n",
    "df7 = pd.read_csv(\"../../CSVTables/Cross_Tb7.csv\")\n",
    "# df8 = pd.read_csv(\"../../CSVTables/Cross_Tb8.csv\")\n",
    "# df9 = pd.read_csv(\"../../CSVTables/Cross_Tb9.csv\")\n",
    "df10 = pd.read_csv(\"../../CSVTables/Cross_Tb10.csv\")\n",
    "df11 = pd.read_csv(\"../../CSVTables/Cross_Tb11.csv\")\n",
    "df12 = pd.read_csv(\"../../CSVTables/Cross_Tb12.csv\")\n",
    "df13 = pd.read_csv(\"../../CSVTables/Cross_Tb13.csv\")\n",
    "# df14 = pd.read_csv(\"../../CSVTables/Cross_Tb14.csv\")\n",
    "df15 = pd.read_csv(\"../../CSVTables/Cross_Tb15.csv\")\n",
    "# df16 = pd.read_csv(\"../../CSVTables/Cross_Tb16.csv\")\n",
    "df17 = pd.read_csv(\"../../CSVTables/Cross_Tb17.csv\")\n",
    "# df18 = pd.read_csv(\"../../CSVTables/Cross_Tb18.csv\")\n",
    "# df19 = pd.read_csv(\"../../CSVTables/Cross_Tb19.csv\")\n",
    "df20 = pd.read_csv(\"../../CSVTables/Cross_Tb20.csv\")\n",
    "df21 = pd.read_csv(\"../../CSVTables/Cross_Tb21.csv\")\n",
    "df22 = pd.read_csv(\"../../CSVTables/Cross_Tb22.csv\")\n",
    "df23 = pd.read_csv(\"../../CSVTables/Cross_Tb23.csv\")\n",
    "# df24 = pd.read_csv(\"../../CSVTables/Cross_Tb24.csv\")\n",
    "df25 = pd.read_csv(\"../../CSVTables/Cross_Tb25.csv\")\n",
    "# df26 = pd.read_csv(\"../../CSVTables/Cross_Tb26.csv\")\n",
    "df27 = pd.read_csv(\"../../CSVTables/Cross_Tb27.csv\")\n",
    "df28 = pd.read_csv(\"../../CSVTables/Cross_Tb28.csv\")\n",
    "df29 = pd.read_csv(\"../../CSVTables/Cross_Tb29.csv\")\n",
    "df30 = pd.read_csv(\"../../CSVTables/EnrollmentCount_Tb.csv\")\n",
    "df31 = pd.read_csv(\"../../CSVTables/tb00.csv\")"
   ]
  },
  {
   "cell_type": "markdown",
   "metadata": {},
   "source": [
    "# Trial Using CSV"
   ]
  },
  {
   "cell_type": "code",
   "execution_count": 3,
   "metadata": {},
   "outputs": [],
   "source": [
    "#Create list of dataframe so it is easier to iterate\n",
    "\n",
    "list_of_df = [df1, df2, df3, df4, df5, df7, df10, df11, df12, df13, df15, df17, df20, df21, df22, df23, df25, df27, df28, df29, df30, df31]"
   ]
  },
  {
   "cell_type": "markdown",
   "metadata": {},
   "source": [
    "#training code\n",
    "list_of_df[2] = list_of_df[2].drop( list_of_df[2].columns[[0,1]], axis=1 )\n",
    "\n",
    "list_of_df[2]"
   ]
  },
  {
   "cell_type": "code",
   "execution_count": 4,
   "metadata": {},
   "outputs": [],
   "source": [
    "#Drop the data I don't want.\n",
    "#Erase this step when finally using dataframe \n",
    "\n",
    "\n",
    "for dframe in range(0, len(list_of_df)-1 ):\n",
    "    list_of_df[dframe] = list_of_df[dframe].drop( list_of_df[dframe].columns[[0,1]], axis=1 )\n",
    "\n",
    "\n"
   ]
  },
  {
   "cell_type": "code",
   "execution_count": 5,
   "metadata": {},
   "outputs": [],
   "source": [
    "df_new = list_of_df[ (len(list_of_df)-1 )].join( list_of_df[ (len(list_of_df)-2 )] )\n",
    "\n",
    "for dframe in range(0, len(list_of_df)-2 ):\n",
    "    df_new = df_new.join( list_of_df[dframe] )"
   ]
  },
  {
   "cell_type": "markdown",
   "metadata": {},
   "source": [
    "#sample joining table\n",
    "\n",
    "df_new = df31.join(df29)\n",
    "df29 = df29.drop(df29.columns[[0,1]], axis=1)\n",
    "df30 = df30.drop(df30.columns[[0,1]], axis=1)\n",
    "\n",
    "df_new = df31.join(df29)\n",
    "df_new = df_new.join(df30)"
   ]
  },
  {
   "cell_type": "code",
   "execution_count": 6,
   "metadata": {},
   "outputs": [
    {
     "name": "stdout",
     "output_type": "stream",
     "text": [
      "         NCTId OverallStatus  Phase_1  Phase_2  Phase_3  Phase_4  Phase_n/a  \\\n",
      "0  NCT00000102     Completed        1        1        0        0          0   \n",
      "1  NCT00000104     Completed        0        0        0        0          1   \n",
      "2  NCT00000105    Terminated        0        0        0        0          1   \n",
      "3  NCT00000106         Other        0        0        0        0          1   \n",
      "4  NCT00000107     Completed        0        0        0        0          1   \n",
      "\n",
      "   51-100  101-200  201-500  ...  tb25_No  tb25_Yes  \\\n",
      "0       0        1        0  ...        0         0   \n",
      "1       0        0        0  ...        0         0   \n",
      "2       0        0        0  ...        0         0   \n",
      "3       0        0        0  ...        0         0   \n",
      "4       0        0        0  ...        0         0   \n",
      "\n",
      "   tb27_NonProbabilitySample  tb27_ProbabilitySample  tb28_Adult  tb28_Child  \\\n",
      "0                          0                       0           1           1   \n",
      "1                          0                       0           1           1   \n",
      "2                          0                       1           1           0   \n",
      "3                          0                       0           1           0   \n",
      "4                          0                       0           1           1   \n",
      "\n",
      "   tb28_OlderAdult  tb29_ExpandedAccess  tb29_Interventional  \\\n",
      "0                0                    0                    1   \n",
      "1                1                    0                    0   \n",
      "2                1                    0                    0   \n",
      "3                1                    0                    1   \n",
      "4                0                    0                    0   \n",
      "\n",
      "   tb29_Observational  \n",
      "0                   0  \n",
      "1                   1  \n",
      "2                   1  \n",
      "3                   0  \n",
      "4                   1  \n",
      "\n",
      "[5 rows x 190 columns]\n",
      "111592\n"
     ]
    }
   ],
   "source": [
    "df_new = df_new.dropna(how = 'any')\n",
    "\n",
    "print( df_new.head() )\n",
    "print(len(df_new.index) )"
   ]
  },
  {
   "cell_type": "code",
   "execution_count": null,
   "metadata": {},
   "outputs": [],
   "source": []
  },
  {
   "cell_type": "code",
   "execution_count": 7,
   "metadata": {},
   "outputs": [],
   "source": [
    "## 2. Regression Machine learning using sample data"
   ]
  },
  {
   "cell_type": "code",
   "execution_count": 8,
   "metadata": {},
   "outputs": [
    {
     "data": {
      "text/plain": [
       "Index(['Phase_1', 'Phase_2', 'Phase_3', 'Phase_4', 'Phase_n/a', '51-100',\n",
       "       '101-200', '201-500', '501-1000', '1001-10000',\n",
       "       ...\n",
       "       'tb25_No', 'tb25_Yes', 'tb27_NonProbabilitySample',\n",
       "       'tb27_ProbabilitySample', 'tb28_Adult', 'tb28_Child', 'tb28_OlderAdult',\n",
       "       'tb29_ExpandedAccess', 'tb29_Interventional', 'tb29_Observational'],\n",
       "      dtype='object', length=188)"
      ]
     },
     "execution_count": 8,
     "metadata": {},
     "output_type": "execute_result"
    }
   ],
   "source": [
    "### 2.a Prepping: extract the name of the column\n",
    "\n",
    "key_name =  df_new.keys()\n",
    "X_name = key_name[2:]\n",
    "\n",
    "X_name"
   ]
  },
  {
   "cell_type": "code",
   "execution_count": 9,
   "metadata": {},
   "outputs": [
    {
     "name": "stdout",
     "output_type": "stream",
     "text": [
      "22506\n"
     ]
    }
   ],
   "source": [
    "### 2.b Select the data we want.\n",
    "### In this case, we only pick Phase 2, and the Overall Status has to be either\n",
    "\n",
    "df_filtered = df_new[ df_new[\"Phase_2\"] == 1 ]\n",
    "df_filtered = df_filtered[ (df_filtered[\"OverallStatus\"] == \"Completed\") | (df_filtered [\"OverallStatus\"] ==\"Terminated\")  ]\n",
    "\n",
    "# print(df_filtered.describe() )\n",
    "\n",
    "#drop null values\n",
    "# df_filtered = df_filtered.dropna(how = 'any')\n",
    "\n",
    "print(len(df_filtered.index ))"
   ]
  },
  {
   "cell_type": "code",
   "execution_count": 10,
   "metadata": {},
   "outputs": [
    {
     "data": {
      "text/html": [
       "<div>\n",
       "<style scoped>\n",
       "    .dataframe tbody tr th:only-of-type {\n",
       "        vertical-align: middle;\n",
       "    }\n",
       "\n",
       "    .dataframe tbody tr th {\n",
       "        vertical-align: top;\n",
       "    }\n",
       "\n",
       "    .dataframe thead th {\n",
       "        text-align: right;\n",
       "    }\n",
       "</style>\n",
       "<table border=\"1\" class=\"dataframe\">\n",
       "  <thead>\n",
       "    <tr style=\"text-align: right;\">\n",
       "      <th></th>\n",
       "      <th>NCTId</th>\n",
       "      <th>Phase_1</th>\n",
       "      <th>Phase_2</th>\n",
       "      <th>Phase_3</th>\n",
       "      <th>Phase_4</th>\n",
       "      <th>Phase_n/a</th>\n",
       "      <th>51-100</th>\n",
       "      <th>101-200</th>\n",
       "      <th>201-500</th>\n",
       "      <th>501-1000</th>\n",
       "      <th>...</th>\n",
       "      <th>tb25_No</th>\n",
       "      <th>tb25_Yes</th>\n",
       "      <th>tb27_NonProbabilitySample</th>\n",
       "      <th>tb27_ProbabilitySample</th>\n",
       "      <th>tb28_Adult</th>\n",
       "      <th>tb28_Child</th>\n",
       "      <th>tb28_OlderAdult</th>\n",
       "      <th>tb29_ExpandedAccess</th>\n",
       "      <th>tb29_Interventional</th>\n",
       "      <th>tb29_Observational</th>\n",
       "    </tr>\n",
       "    <tr>\n",
       "      <th>OverallStatus</th>\n",
       "      <th></th>\n",
       "      <th></th>\n",
       "      <th></th>\n",
       "      <th></th>\n",
       "      <th></th>\n",
       "      <th></th>\n",
       "      <th></th>\n",
       "      <th></th>\n",
       "      <th></th>\n",
       "      <th></th>\n",
       "      <th></th>\n",
       "      <th></th>\n",
       "      <th></th>\n",
       "      <th></th>\n",
       "      <th></th>\n",
       "      <th></th>\n",
       "      <th></th>\n",
       "      <th></th>\n",
       "      <th></th>\n",
       "      <th></th>\n",
       "      <th></th>\n",
       "    </tr>\n",
       "  </thead>\n",
       "  <tbody>\n",
       "    <tr>\n",
       "      <th>Completed</th>\n",
       "      <td>17503</td>\n",
       "      <td>17503</td>\n",
       "      <td>17503</td>\n",
       "      <td>17503</td>\n",
       "      <td>17503</td>\n",
       "      <td>17503</td>\n",
       "      <td>17503</td>\n",
       "      <td>17503</td>\n",
       "      <td>17503</td>\n",
       "      <td>17503</td>\n",
       "      <td>...</td>\n",
       "      <td>17503</td>\n",
       "      <td>17503</td>\n",
       "      <td>17503</td>\n",
       "      <td>17503</td>\n",
       "      <td>17503</td>\n",
       "      <td>17503</td>\n",
       "      <td>17503</td>\n",
       "      <td>17503</td>\n",
       "      <td>17503</td>\n",
       "      <td>17503</td>\n",
       "    </tr>\n",
       "    <tr>\n",
       "      <th>Terminated</th>\n",
       "      <td>5003</td>\n",
       "      <td>5003</td>\n",
       "      <td>5003</td>\n",
       "      <td>5003</td>\n",
       "      <td>5003</td>\n",
       "      <td>5003</td>\n",
       "      <td>5003</td>\n",
       "      <td>5003</td>\n",
       "      <td>5003</td>\n",
       "      <td>5003</td>\n",
       "      <td>...</td>\n",
       "      <td>5003</td>\n",
       "      <td>5003</td>\n",
       "      <td>5003</td>\n",
       "      <td>5003</td>\n",
       "      <td>5003</td>\n",
       "      <td>5003</td>\n",
       "      <td>5003</td>\n",
       "      <td>5003</td>\n",
       "      <td>5003</td>\n",
       "      <td>5003</td>\n",
       "    </tr>\n",
       "  </tbody>\n",
       "</table>\n",
       "<p>2 rows × 189 columns</p>\n",
       "</div>"
      ],
      "text/plain": [
       "               NCTId  Phase_1  Phase_2  Phase_3  Phase_4  Phase_n/a  51-100  \\\n",
       "OverallStatus                                                                 \n",
       "Completed      17503    17503    17503    17503    17503      17503   17503   \n",
       "Terminated      5003     5003     5003     5003     5003       5003    5003   \n",
       "\n",
       "               101-200  201-500  501-1000  ...  tb25_No  tb25_Yes  \\\n",
       "OverallStatus                              ...                      \n",
       "Completed        17503    17503     17503  ...    17503     17503   \n",
       "Terminated        5003     5003      5003  ...     5003      5003   \n",
       "\n",
       "               tb27_NonProbabilitySample  tb27_ProbabilitySample  tb28_Adult  \\\n",
       "OverallStatus                                                                  \n",
       "Completed                          17503                   17503       17503   \n",
       "Terminated                          5003                    5003        5003   \n",
       "\n",
       "               tb28_Child  tb28_OlderAdult  tb29_ExpandedAccess  \\\n",
       "OverallStatus                                                     \n",
       "Completed           17503            17503                17503   \n",
       "Terminated           5003             5003                 5003   \n",
       "\n",
       "               tb29_Interventional  tb29_Observational  \n",
       "OverallStatus                                           \n",
       "Completed                    17503               17503  \n",
       "Terminated                    5003                5003  \n",
       "\n",
       "[2 rows x 189 columns]"
      ]
     },
     "execution_count": 10,
     "metadata": {},
     "output_type": "execute_result"
    }
   ],
   "source": [
    "df_filtered.groupby(\"OverallStatus\").count()"
   ]
  },
  {
   "cell_type": "code",
   "execution_count": null,
   "metadata": {},
   "outputs": [],
   "source": []
  },
  {
   "cell_type": "code",
   "execution_count": 11,
   "metadata": {},
   "outputs": [
    {
     "name": "stdout",
     "output_type": "stream",
     "text": [
      "(22506, 188) (22506,)\n"
     ]
    }
   ],
   "source": [
    "### 2.c Assign data to X and Y\n",
    "\n",
    "X = df_filtered[X_name]\n",
    "y = df_filtered[\"OverallStatus\"]\n",
    "print(X.shape , y.shape)"
   ]
  },
  {
   "cell_type": "code",
   "execution_count": 12,
   "metadata": {},
   "outputs": [],
   "source": [
    "### 2.d Use train_test_split to create training and testing data\n",
    "\n",
    "### BEGIN SOLUTION\n",
    "from sklearn.model_selection import train_test_split\n",
    "\n",
    "X_train, X_test, y_train, y_test = train_test_split(X, y)\n",
    "\n"
   ]
  },
  {
   "cell_type": "code",
   "execution_count": null,
   "metadata": {},
   "outputs": [],
   "source": []
  },
  {
   "cell_type": "code",
   "execution_count": null,
   "metadata": {},
   "outputs": [],
   "source": []
  },
  {
   "cell_type": "code",
   "execution_count": 13,
   "metadata": {},
   "outputs": [
    {
     "data": {
      "text/plain": [
       "LogisticRegression(C=1.0, class_weight=None, dual=False, fit_intercept=True,\n",
       "                   intercept_scaling=1, l1_ratio=None, max_iter=100,\n",
       "                   multi_class='warn', n_jobs=None, penalty='l2',\n",
       "                   random_state=None, solver='warn', tol=0.0001, verbose=0,\n",
       "                   warm_start=False)"
      ]
     },
     "execution_count": 13,
     "metadata": {},
     "output_type": "execute_result"
    }
   ],
   "source": [
    "# Create the model using LinearRegression\n",
    "from sklearn.linear_model import LogisticRegression\n",
    "classifier = LogisticRegression()\n",
    "classifier"
   ]
  },
  {
   "cell_type": "code",
   "execution_count": 14,
   "metadata": {},
   "outputs": [
    {
     "name": "stderr",
     "output_type": "stream",
     "text": [
      "C:\\Users\\haeze\\Anaconda3\\lib\\site-packages\\sklearn\\linear_model\\logistic.py:432: FutureWarning: Default solver will be changed to 'lbfgs' in 0.22. Specify a solver to silence this warning.\n",
      "  FutureWarning)\n"
     ]
    },
    {
     "name": "stdout",
     "output_type": "stream",
     "text": [
      "Training Data Score: 0.7789560992949819\n",
      "Testing Data Score: 0.782655055980096\n"
     ]
    }
   ],
   "source": [
    "# Fit the model to the training data and calculate the scores for the training and testing data\n",
    "\n",
    "### BEGIN SOLUTION\n",
    "classifier.fit(X_train, y_train)\n",
    "\n",
    "### END SOLUTION \n",
    "\n",
    "print(f\"Training Data Score: {classifier.score(X_train, y_train)}\")\n",
    "print(f\"Testing Data Score: {classifier.score(X_test, y_test)}\")"
   ]
  },
  {
   "cell_type": "code",
   "execution_count": 15,
   "metadata": {},
   "outputs": [
    {
     "name": "stdout",
     "output_type": "stream",
     "text": [
      "First 30 Predictions:   ['Completed' 'Completed' 'Completed' 'Completed' 'Completed' 'Completed'\n",
      " 'Completed' 'Completed' 'Completed' 'Completed' 'Completed' 'Completed'\n",
      " 'Completed' 'Completed' 'Terminated' 'Completed' 'Completed' 'Completed'\n",
      " 'Completed' 'Completed' 'Completed' 'Completed' 'Completed' 'Completed'\n",
      " 'Completed' 'Completed' 'Completed' 'Completed' 'Completed' 'Completed']\n",
      "First 30 Actual labels: ['Completed', 'Completed', 'Completed', 'Completed', 'Completed', 'Completed', 'Completed', 'Completed', 'Completed', 'Completed', 'Terminated', 'Completed', 'Completed', 'Completed', 'Terminated', 'Completed', 'Completed', 'Completed', 'Completed', 'Completed', 'Completed', 'Completed', 'Completed', 'Completed', 'Completed', 'Completed', 'Completed', 'Completed', 'Completed', 'Completed']\n"
     ]
    }
   ],
   "source": [
    "predictions = classifier.predict(X_test)\n",
    "print(f\"First 30 Predictions:   {predictions[:30]}\")\n",
    "print(f\"First 30 Actual labels: {y_test[:30].tolist()}\")"
   ]
  },
  {
   "cell_type": "code",
   "execution_count": 16,
   "metadata": {},
   "outputs": [
    {
     "data": {
      "text/plain": [
       "array(['Completed', 'Terminated'], dtype=object)"
      ]
     },
     "execution_count": 16,
     "metadata": {},
     "output_type": "execute_result"
    }
   ],
   "source": [
    "np.unique(predictions)"
   ]
  },
  {
   "cell_type": "code",
   "execution_count": 17,
   "metadata": {},
   "outputs": [
    {
     "data": {
      "text/html": [
       "<div>\n",
       "<style scoped>\n",
       "    .dataframe tbody tr th:only-of-type {\n",
       "        vertical-align: middle;\n",
       "    }\n",
       "\n",
       "    .dataframe tbody tr th {\n",
       "        vertical-align: top;\n",
       "    }\n",
       "\n",
       "    .dataframe thead th {\n",
       "        text-align: right;\n",
       "    }\n",
       "</style>\n",
       "<table border=\"1\" class=\"dataframe\">\n",
       "  <thead>\n",
       "    <tr style=\"text-align: right;\">\n",
       "      <th></th>\n",
       "      <th>Prediction</th>\n",
       "      <th>Actual</th>\n",
       "    </tr>\n",
       "  </thead>\n",
       "  <tbody>\n",
       "    <tr>\n",
       "      <th>0</th>\n",
       "      <td>Completed</td>\n",
       "      <td>Completed</td>\n",
       "    </tr>\n",
       "    <tr>\n",
       "      <th>1</th>\n",
       "      <td>Completed</td>\n",
       "      <td>Completed</td>\n",
       "    </tr>\n",
       "    <tr>\n",
       "      <th>2</th>\n",
       "      <td>Completed</td>\n",
       "      <td>Completed</td>\n",
       "    </tr>\n",
       "    <tr>\n",
       "      <th>3</th>\n",
       "      <td>Completed</td>\n",
       "      <td>Completed</td>\n",
       "    </tr>\n",
       "    <tr>\n",
       "      <th>4</th>\n",
       "      <td>Completed</td>\n",
       "      <td>Completed</td>\n",
       "    </tr>\n",
       "    <tr>\n",
       "      <th>...</th>\n",
       "      <td>...</td>\n",
       "      <td>...</td>\n",
       "    </tr>\n",
       "    <tr>\n",
       "      <th>5622</th>\n",
       "      <td>Completed</td>\n",
       "      <td>Terminated</td>\n",
       "    </tr>\n",
       "    <tr>\n",
       "      <th>5623</th>\n",
       "      <td>Completed</td>\n",
       "      <td>Completed</td>\n",
       "    </tr>\n",
       "    <tr>\n",
       "      <th>5624</th>\n",
       "      <td>Terminated</td>\n",
       "      <td>Terminated</td>\n",
       "    </tr>\n",
       "    <tr>\n",
       "      <th>5625</th>\n",
       "      <td>Terminated</td>\n",
       "      <td>Terminated</td>\n",
       "    </tr>\n",
       "    <tr>\n",
       "      <th>5626</th>\n",
       "      <td>Completed</td>\n",
       "      <td>Terminated</td>\n",
       "    </tr>\n",
       "  </tbody>\n",
       "</table>\n",
       "<p>5627 rows × 2 columns</p>\n",
       "</div>"
      ],
      "text/plain": [
       "      Prediction      Actual\n",
       "0      Completed   Completed\n",
       "1      Completed   Completed\n",
       "2      Completed   Completed\n",
       "3      Completed   Completed\n",
       "4      Completed   Completed\n",
       "...          ...         ...\n",
       "5622   Completed  Terminated\n",
       "5623   Completed   Completed\n",
       "5624  Terminated  Terminated\n",
       "5625  Terminated  Terminated\n",
       "5626   Completed  Terminated\n",
       "\n",
       "[5627 rows x 2 columns]"
      ]
     },
     "execution_count": 17,
     "metadata": {},
     "output_type": "execute_result"
    }
   ],
   "source": [
    "pd.DataFrame({\"Prediction\": predictions, \"Actual\": y_test}).reset_index(drop=True)"
   ]
  },
  {
   "cell_type": "code",
   "execution_count": 18,
   "metadata": {},
   "outputs": [],
   "source": [
    "#4. save the regression model\n",
    "filename = \"clinical_trial.sav\"\n",
    "pickle.dump(classifier , open(filename, 'wb'))"
   ]
  },
  {
   "cell_type": "code",
   "execution_count": 19,
   "metadata": {},
   "outputs": [
    {
     "data": {
      "text/html": [
       "<div>\n",
       "<style scoped>\n",
       "    .dataframe tbody tr th:only-of-type {\n",
       "        vertical-align: middle;\n",
       "    }\n",
       "\n",
       "    .dataframe tbody tr th {\n",
       "        vertical-align: top;\n",
       "    }\n",
       "\n",
       "    .dataframe thead th {\n",
       "        text-align: right;\n",
       "    }\n",
       "</style>\n",
       "<table border=\"1\" class=\"dataframe\">\n",
       "  <thead>\n",
       "    <tr style=\"text-align: right;\">\n",
       "      <th></th>\n",
       "      <th>NCTId</th>\n",
       "      <th>OverallStatus</th>\n",
       "      <th>Phase_1</th>\n",
       "      <th>Phase_2</th>\n",
       "      <th>Phase_3</th>\n",
       "      <th>Phase_4</th>\n",
       "      <th>Phase_n/a</th>\n",
       "      <th>51-100</th>\n",
       "      <th>101-200</th>\n",
       "      <th>201-500</th>\n",
       "      <th>...</th>\n",
       "      <th>tb25_No</th>\n",
       "      <th>tb25_Yes</th>\n",
       "      <th>tb27_NonProbabilitySample</th>\n",
       "      <th>tb27_ProbabilitySample</th>\n",
       "      <th>tb28_Adult</th>\n",
       "      <th>tb28_Child</th>\n",
       "      <th>tb28_OlderAdult</th>\n",
       "      <th>tb29_ExpandedAccess</th>\n",
       "      <th>tb29_Interventional</th>\n",
       "      <th>tb29_Observational</th>\n",
       "    </tr>\n",
       "  </thead>\n",
       "  <tbody>\n",
       "    <tr>\n",
       "      <th>0</th>\n",
       "      <td>NCT00000102</td>\n",
       "      <td>Completed</td>\n",
       "      <td>1</td>\n",
       "      <td>1</td>\n",
       "      <td>0</td>\n",
       "      <td>0</td>\n",
       "      <td>0</td>\n",
       "      <td>0</td>\n",
       "      <td>1</td>\n",
       "      <td>0</td>\n",
       "      <td>...</td>\n",
       "      <td>0</td>\n",
       "      <td>0</td>\n",
       "      <td>0</td>\n",
       "      <td>0</td>\n",
       "      <td>1</td>\n",
       "      <td>1</td>\n",
       "      <td>0</td>\n",
       "      <td>0</td>\n",
       "      <td>1</td>\n",
       "      <td>0</td>\n",
       "    </tr>\n",
       "    <tr>\n",
       "      <th>11</th>\n",
       "      <td>NCT00000119</td>\n",
       "      <td>Other</td>\n",
       "      <td>0</td>\n",
       "      <td>1</td>\n",
       "      <td>0</td>\n",
       "      <td>0</td>\n",
       "      <td>0</td>\n",
       "      <td>0</td>\n",
       "      <td>0</td>\n",
       "      <td>0</td>\n",
       "      <td>...</td>\n",
       "      <td>0</td>\n",
       "      <td>0</td>\n",
       "      <td>0</td>\n",
       "      <td>0</td>\n",
       "      <td>1</td>\n",
       "      <td>0</td>\n",
       "      <td>1</td>\n",
       "      <td>0</td>\n",
       "      <td>1</td>\n",
       "      <td>0</td>\n",
       "    </tr>\n",
       "    <tr>\n",
       "      <th>37</th>\n",
       "      <td>NCT00000187</td>\n",
       "      <td>Completed</td>\n",
       "      <td>0</td>\n",
       "      <td>1</td>\n",
       "      <td>0</td>\n",
       "      <td>0</td>\n",
       "      <td>0</td>\n",
       "      <td>1</td>\n",
       "      <td>0</td>\n",
       "      <td>0</td>\n",
       "      <td>...</td>\n",
       "      <td>0</td>\n",
       "      <td>0</td>\n",
       "      <td>0</td>\n",
       "      <td>0</td>\n",
       "      <td>1</td>\n",
       "      <td>0</td>\n",
       "      <td>0</td>\n",
       "      <td>0</td>\n",
       "      <td>1</td>\n",
       "      <td>0</td>\n",
       "    </tr>\n",
       "    <tr>\n",
       "      <th>38</th>\n",
       "      <td>NCT00000188</td>\n",
       "      <td>Completed</td>\n",
       "      <td>0</td>\n",
       "      <td>1</td>\n",
       "      <td>0</td>\n",
       "      <td>0</td>\n",
       "      <td>0</td>\n",
       "      <td>0</td>\n",
       "      <td>1</td>\n",
       "      <td>0</td>\n",
       "      <td>...</td>\n",
       "      <td>0</td>\n",
       "      <td>0</td>\n",
       "      <td>0</td>\n",
       "      <td>0</td>\n",
       "      <td>1</td>\n",
       "      <td>1</td>\n",
       "      <td>1</td>\n",
       "      <td>0</td>\n",
       "      <td>1</td>\n",
       "      <td>0</td>\n",
       "    </tr>\n",
       "    <tr>\n",
       "      <th>39</th>\n",
       "      <td>NCT00000189</td>\n",
       "      <td>Completed</td>\n",
       "      <td>0</td>\n",
       "      <td>1</td>\n",
       "      <td>0</td>\n",
       "      <td>0</td>\n",
       "      <td>0</td>\n",
       "      <td>0</td>\n",
       "      <td>0</td>\n",
       "      <td>0</td>\n",
       "      <td>...</td>\n",
       "      <td>0</td>\n",
       "      <td>0</td>\n",
       "      <td>0</td>\n",
       "      <td>0</td>\n",
       "      <td>1</td>\n",
       "      <td>1</td>\n",
       "      <td>1</td>\n",
       "      <td>0</td>\n",
       "      <td>1</td>\n",
       "      <td>0</td>\n",
       "    </tr>\n",
       "  </tbody>\n",
       "</table>\n",
       "<p>5 rows × 190 columns</p>\n",
       "</div>"
      ],
      "text/plain": [
       "          NCTId OverallStatus  Phase_1  Phase_2  Phase_3  Phase_4  Phase_n/a  \\\n",
       "0   NCT00000102     Completed        1        1        0        0          0   \n",
       "11  NCT00000119         Other        0        1        0        0          0   \n",
       "37  NCT00000187     Completed        0        1        0        0          0   \n",
       "38  NCT00000188     Completed        0        1        0        0          0   \n",
       "39  NCT00000189     Completed        0        1        0        0          0   \n",
       "\n",
       "    51-100  101-200  201-500  ...  tb25_No  tb25_Yes  \\\n",
       "0        0        1        0  ...        0         0   \n",
       "11       0        0        0  ...        0         0   \n",
       "37       1        0        0  ...        0         0   \n",
       "38       0        1        0  ...        0         0   \n",
       "39       0        0        0  ...        0         0   \n",
       "\n",
       "    tb27_NonProbabilitySample  tb27_ProbabilitySample  tb28_Adult  tb28_Child  \\\n",
       "0                           0                       0           1           1   \n",
       "11                          0                       0           1           0   \n",
       "37                          0                       0           1           0   \n",
       "38                          0                       0           1           1   \n",
       "39                          0                       0           1           1   \n",
       "\n",
       "    tb28_OlderAdult  tb29_ExpandedAccess  tb29_Interventional  \\\n",
       "0                 0                    0                    1   \n",
       "11                1                    0                    1   \n",
       "37                0                    0                    1   \n",
       "38                1                    0                    1   \n",
       "39                1                    0                    1   \n",
       "\n",
       "    tb29_Observational  \n",
       "0                    0  \n",
       "11                   0  \n",
       "37                   0  \n",
       "38                   0  \n",
       "39                   0  \n",
       "\n",
       "[5 rows x 190 columns]"
      ]
     },
     "execution_count": 19,
     "metadata": {},
     "output_type": "execute_result"
    }
   ],
   "source": [
    "### 5. Try applying the model into other non-concluded trial.\n",
    "\n",
    "### 5.a Predict using other data\n",
    "\n",
    "df_other_trial = df_new[ df_new[\"Phase_2\"] == 1 ]\n",
    "df_other_trial = df_other_trial[ (df_other_trial[\"OverallStatus\"] != \"Completed\") | (df_other_trial[\"OverallStatus\"] != \"Terminated\") ]\n",
    "df_other_trial.head()\n"
   ]
  },
  {
   "cell_type": "code",
   "execution_count": 20,
   "metadata": {},
   "outputs": [
    {
     "name": "stdout",
     "output_type": "stream",
     "text": [
      "(22506, 188) (22506,)\n"
     ]
    }
   ],
   "source": [
    "### 5.b Assign data to X and Y\n",
    "\n",
    "X_other = df_other_trial[X_name]\n",
    "y_other = df_other_trial[\"OverallStatus\"]\n",
    "print(X.shape , y.shape)"
   ]
  },
  {
   "cell_type": "code",
   "execution_count": 21,
   "metadata": {},
   "outputs": [
    {
     "name": "stdout",
     "output_type": "stream",
     "text": [
      "First 30 Predictions:   ['Completed' 'Completed' 'Completed' 'Completed' 'Completed' 'Completed'\n",
      " 'Completed' 'Completed' 'Completed' 'Completed' 'Completed' 'Completed'\n",
      " 'Completed' 'Completed' 'Terminated' 'Completed' 'Completed' 'Completed'\n",
      " 'Completed' 'Completed' 'Completed' 'Completed' 'Completed' 'Completed'\n",
      " 'Completed' 'Completed' 'Completed' 'Completed' 'Completed' 'Completed']\n"
     ]
    }
   ],
   "source": [
    "predictions_other = classifier.predict(X_other)\n",
    "print(f\"First 30 Predictions:   {predictions[:30]}\")"
   ]
  },
  {
   "cell_type": "code",
   "execution_count": 22,
   "metadata": {},
   "outputs": [
    {
     "data": {
      "text/html": [
       "<div>\n",
       "<style scoped>\n",
       "    .dataframe tbody tr th:only-of-type {\n",
       "        vertical-align: middle;\n",
       "    }\n",
       "\n",
       "    .dataframe tbody tr th {\n",
       "        vertical-align: top;\n",
       "    }\n",
       "\n",
       "    .dataframe thead th {\n",
       "        text-align: right;\n",
       "    }\n",
       "</style>\n",
       "<table border=\"1\" class=\"dataframe\">\n",
       "  <thead>\n",
       "    <tr style=\"text-align: right;\">\n",
       "      <th></th>\n",
       "      <th>Prediction</th>\n",
       "      <th>value_count</th>\n",
       "    </tr>\n",
       "  </thead>\n",
       "  <tbody>\n",
       "    <tr>\n",
       "      <th>0</th>\n",
       "      <td>Completed</td>\n",
       "      <td>1</td>\n",
       "    </tr>\n",
       "    <tr>\n",
       "      <th>1</th>\n",
       "      <td>Completed</td>\n",
       "      <td>1</td>\n",
       "    </tr>\n",
       "    <tr>\n",
       "      <th>2</th>\n",
       "      <td>Completed</td>\n",
       "      <td>1</td>\n",
       "    </tr>\n",
       "    <tr>\n",
       "      <th>3</th>\n",
       "      <td>Completed</td>\n",
       "      <td>1</td>\n",
       "    </tr>\n",
       "    <tr>\n",
       "      <th>4</th>\n",
       "      <td>Completed</td>\n",
       "      <td>1</td>\n",
       "    </tr>\n",
       "  </tbody>\n",
       "</table>\n",
       "</div>"
      ],
      "text/plain": [
       "  Prediction  value_count\n",
       "0  Completed            1\n",
       "1  Completed            1\n",
       "2  Completed            1\n",
       "3  Completed            1\n",
       "4  Completed            1"
      ]
     },
     "execution_count": 22,
     "metadata": {},
     "output_type": "execute_result"
    }
   ],
   "source": [
    "other_result = pd.DataFrame({\"Prediction\": predictions}).reset_index(drop=True)\n",
    "other_result[\"value_count\"] = 1\n",
    "\n",
    "other_result.head()"
   ]
  },
  {
   "cell_type": "code",
   "execution_count": null,
   "metadata": {},
   "outputs": [],
   "source": []
  },
  {
   "cell_type": "code",
   "execution_count": 23,
   "metadata": {},
   "outputs": [
    {
     "data": {
      "text/html": [
       "<div>\n",
       "<style scoped>\n",
       "    .dataframe tbody tr th:only-of-type {\n",
       "        vertical-align: middle;\n",
       "    }\n",
       "\n",
       "    .dataframe tbody tr th {\n",
       "        vertical-align: top;\n",
       "    }\n",
       "\n",
       "    .dataframe thead th {\n",
       "        text-align: right;\n",
       "    }\n",
       "</style>\n",
       "<table border=\"1\" class=\"dataframe\">\n",
       "  <thead>\n",
       "    <tr style=\"text-align: right;\">\n",
       "      <th></th>\n",
       "      <th>value_count</th>\n",
       "    </tr>\n",
       "    <tr>\n",
       "      <th>Prediction</th>\n",
       "      <th></th>\n",
       "    </tr>\n",
       "  </thead>\n",
       "  <tbody>\n",
       "    <tr>\n",
       "      <th>Completed</th>\n",
       "      <td>5483</td>\n",
       "    </tr>\n",
       "    <tr>\n",
       "      <th>Terminated</th>\n",
       "      <td>144</td>\n",
       "    </tr>\n",
       "  </tbody>\n",
       "</table>\n",
       "</div>"
      ],
      "text/plain": [
       "            value_count\n",
       "Prediction             \n",
       "Completed          5483\n",
       "Terminated          144"
      ]
     },
     "execution_count": 23,
     "metadata": {},
     "output_type": "execute_result"
    }
   ],
   "source": [
    "other_result.groupby(\"Prediction\").sum()"
   ]
  },
  {
   "cell_type": "code",
   "execution_count": null,
   "metadata": {},
   "outputs": [],
   "source": []
  },
  {
   "cell_type": "code",
   "execution_count": null,
   "metadata": {},
   "outputs": [],
   "source": []
  }
 ],
 "metadata": {
  "kernelspec": {
   "display_name": "Python 3",
   "language": "python",
   "name": "python3"
  },
  "language_info": {
   "codemirror_mode": {
    "name": "ipython",
    "version": 3
   },
   "file_extension": ".py",
   "mimetype": "text/x-python",
   "name": "python",
   "nbconvert_exporter": "python",
   "pygments_lexer": "ipython3",
   "version": "3.7.6"
  }
 },
 "nbformat": 4,
 "nbformat_minor": 2
}
