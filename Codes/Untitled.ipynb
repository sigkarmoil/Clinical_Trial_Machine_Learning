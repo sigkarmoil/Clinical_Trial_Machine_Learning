{
 "cells": [
  {
   "cell_type": "code",
   "execution_count": 1,
   "metadata": {},
   "outputs": [],
   "source": [
    "# Dependencies\n",
    "import json\n",
    "import os\n",
    "import pandas as pd"
   ]
  },
  {
   "cell_type": "code",
   "execution_count": 2,
   "metadata": {},
   "outputs": [],
   "source": [
    "#open json\n",
    "object_path = 'sample_data.json'\n",
    "with open(object_path) as jsonfile:\n",
    "       data_json = json.load(jsonfile)\n",
    "df_from_json = pd.DataFrame(data_json)"
   ]
  },
  {
   "cell_type": "code",
   "execution_count": 11,
   "metadata": {},
   "outputs": [],
   "source": [
    "df_from_json.to_csv('df_from_json.csv')"
   ]
  },
  {
   "cell_type": "code",
   "execution_count": 4,
   "metadata": {},
   "outputs": [
    {
     "data": {
      "text/html": [
       "<div>\n",
       "<style scoped>\n",
       "    .dataframe tbody tr th:only-of-type {\n",
       "        vertical-align: middle;\n",
       "    }\n",
       "\n",
       "    .dataframe tbody tr th {\n",
       "        vertical-align: top;\n",
       "    }\n",
       "\n",
       "    .dataframe thead th {\n",
       "        text-align: right;\n",
       "    }\n",
       "</style>\n",
       "<table border=\"1\" class=\"dataframe\">\n",
       "  <thead>\n",
       "    <tr style=\"text-align: right;\">\n",
       "      <th></th>\n",
       "      <th>NCTId</th>\n",
       "      <th>ArmGroupInterventionName</th>\n",
       "      <th>ArmGroupType</th>\n",
       "      <th>BaselineMeasureDispersionType</th>\n",
       "      <th>BaselineMeasureParamType</th>\n",
       "      <th>CollaboratorClass</th>\n",
       "      <th>ConditionAncestorId</th>\n",
       "      <th>ConditionBrowseBranchAbbrev</th>\n",
       "      <th>ConditionBrowseLeafId</th>\n",
       "      <th>ConditionMeshId</th>\n",
       "      <th>...</th>\n",
       "      <th>InterventionType</th>\n",
       "      <th>IsFDARegulatedDevice</th>\n",
       "      <th>IsFDARegulatedDrug</th>\n",
       "      <th>LeadSponsorClass</th>\n",
       "      <th>OverallStatus</th>\n",
       "      <th>PatientRegistry</th>\n",
       "      <th>Phase</th>\n",
       "      <th>SamplingMethod</th>\n",
       "      <th>StdAge</th>\n",
       "      <th>StudyType</th>\n",
       "    </tr>\n",
       "  </thead>\n",
       "  <tbody>\n",
       "    <tr>\n",
       "      <th>0</th>\n",
       "      <td>NCT04371159</td>\n",
       "      <td>Device: Velieve U.S.</td>\n",
       "      <td>Experimental</td>\n",
       "      <td>0</td>\n",
       "      <td>0</td>\n",
       "      <td>0</td>\n",
       "      <td>[D000007239, D000014570]</td>\n",
       "      <td>[BC01, All, BXS]</td>\n",
       "      <td>[M8866, M4951, M15885, M15902]</td>\n",
       "      <td>D000014552</td>\n",
       "      <td>...</td>\n",
       "      <td>Device</td>\n",
       "      <td>Yes</td>\n",
       "      <td>No</td>\n",
       "      <td>INDUSTRY</td>\n",
       "      <td>Completed</td>\n",
       "      <td>0</td>\n",
       "      <td>Not Applicable</td>\n",
       "      <td>0</td>\n",
       "      <td>[Adult, Older Adult]</td>\n",
       "      <td>Interventional</td>\n",
       "    </tr>\n",
       "  </tbody>\n",
       "</table>\n",
       "<p>1 rows × 30 columns</p>\n",
       "</div>"
      ],
      "text/plain": [
       "         NCTId ArmGroupInterventionName  ArmGroupType  \\\n",
       "0  NCT04371159     Device: Velieve U.S.  Experimental   \n",
       "\n",
       "  BaselineMeasureDispersionType BaselineMeasureParamType CollaboratorClass  \\\n",
       "0                             0                        0                 0   \n",
       "\n",
       "       ConditionAncestorId  ConditionBrowseBranchAbbrev  \\\n",
       "0  [D000007239, D000014570]            [BC01, All, BXS]   \n",
       "\n",
       "            ConditionBrowseLeafId ConditionMeshId  ... InterventionType  \\\n",
       "0  [M8866, M4951, M15885, M15902]      D000014552  ...           Device   \n",
       "\n",
       "  IsFDARegulatedDevice IsFDARegulatedDrug LeadSponsorClass OverallStatus  \\\n",
       "0                  Yes                 No         INDUSTRY     Completed   \n",
       "\n",
       "  PatientRegistry           Phase SamplingMethod                 StdAge  \\\n",
       "0               0  Not Applicable               0  [Adult, Older Adult]   \n",
       "\n",
       "        StudyType  \n",
       "0  Interventional  \n",
       "\n",
       "[1 rows x 30 columns]"
      ]
     },
     "execution_count": 4,
     "metadata": {},
     "output_type": "execute_result"
    }
   ],
   "source": [
    "df_from_json.head(1)"
   ]
  },
  {
   "cell_type": "code",
   "execution_count": 10,
   "metadata": {},
   "outputs": [
    {
     "ename": "NameError",
     "evalue": "name 'SamplingMethod' is not defined",
     "output_type": "error",
     "traceback": [
      "\u001b[1;31m---------------------------------------------------------------------------\u001b[0m",
      "\u001b[1;31mNameError\u001b[0m                                 Traceback (most recent call last)",
      "\u001b[1;32m<ipython-input-10-63b396cdbb6d>\u001b[0m in \u001b[0;36m<module>\u001b[1;34m\u001b[0m\n\u001b[0;32m      1\u001b[0m \u001b[1;31m# extract \"OverallStatus\" value\u001b[0m\u001b[1;33m\u001b[0m\u001b[1;33m\u001b[0m\u001b[1;33m\u001b[0m\u001b[0m\n\u001b[0;32m      2\u001b[0m \u001b[0mtb\u001b[0m \u001b[1;33m=\u001b[0m \u001b[0mdf_from_json\u001b[0m\u001b[1;33m[\u001b[0m\u001b[1;33m[\u001b[0m\u001b[1;34m'NCTId'\u001b[0m\u001b[1;33m]\u001b[0m\u001b[1;33m]\u001b[0m\u001b[1;33m.\u001b[0m\u001b[0mcopy\u001b[0m\u001b[1;33m(\u001b[0m\u001b[1;33m)\u001b[0m\u001b[1;33m\u001b[0m\u001b[1;33m\u001b[0m\u001b[0m\n\u001b[1;32m----> 3\u001b[1;33m \u001b[0mtb\u001b[0m\u001b[1;33m[\u001b[0m\u001b[1;34m'hello'\u001b[0m\u001b[1;33m]\u001b[0m \u001b[1;33m=\u001b[0m \u001b[0mdf_from_json\u001b[0m\u001b[1;33m[\u001b[0m\u001b[0mSamplingMethod\u001b[0m\u001b[1;33m]\u001b[0m\u001b[1;33m\u001b[0m\u001b[1;33m\u001b[0m\u001b[0m\n\u001b[0m\u001b[0;32m      4\u001b[0m \u001b[1;31m#tb = tb.explode('OverallStatus')\u001b[0m\u001b[1;33m\u001b[0m\u001b[1;33m\u001b[0m\u001b[1;33m\u001b[0m\u001b[0m\n\u001b[0;32m      5\u001b[0m \u001b[0mtb\u001b[0m\u001b[1;33m\u001b[0m\u001b[1;33m\u001b[0m\u001b[0m\n",
      "\u001b[1;31mNameError\u001b[0m: name 'SamplingMethod' is not defined"
     ]
    }
   ],
   "source": [
    "# extract \"OverallStatus\" value \n",
    "tb = df_from_json[['NCTId']].copy()\n",
    "tb['hello'] = df_from_json[SamplingMethod]\n",
    "#tb = tb.explode('OverallStatus')\n",
    "tb"
   ]
  },
  {
   "cell_type": "code",
   "execution_count": null,
   "metadata": {},
   "outputs": [],
   "source": []
  }
 ],
 "metadata": {
  "kernelspec": {
   "display_name": "Python 3",
   "language": "python",
   "name": "python3"
  },
  "language_info": {
   "codemirror_mode": {
    "name": "ipython",
    "version": 3
   },
   "file_extension": ".py",
   "mimetype": "text/x-python",
   "name": "python",
   "nbconvert_exporter": "python",
   "pygments_lexer": "ipython3",
   "version": "3.7.6"
  }
 },
 "nbformat": 4,
 "nbformat_minor": 4
}
